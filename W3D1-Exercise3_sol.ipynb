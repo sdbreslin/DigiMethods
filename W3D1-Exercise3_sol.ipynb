{
 "cells": [
  {
   "cell_type": "markdown",
   "metadata": {},
   "source": [
    "# Exercise 3: Functions and Data\n",
    "\n",
    "Builds on exercises provided by programminghistorian.org. \n",
    "\n",
    "## 3.1 Functions\n"
   ]
  },
  {
   "cell_type": "markdown",
   "metadata": {},
   "source": [
    "**Question 3.1.1**: Write a function `is_number` that uses the `try` and `except` structure to return `True` of the input is a number, or print a relevant error statement and returns `None` if the input is not a number. Test your function on several cases. "
   ]
  },
  {
   "cell_type": "code",
   "execution_count": 1,
   "metadata": {},
   "outputs": [],
   "source": [
    "#Answer to question 3.1.1"
   ]
  },
  {
   "cell_type": "code",
   "execution_count": 2,
   "metadata": {},
   "outputs": [],
   "source": [
    "#defining the number\n",
    "def is_number(num):\n",
    "    try: \n",
    "        #If float() is successful then num is a number (or a representation of a number)\n",
    "        float(num)\n",
    "    except ValueError:\n",
    "        #If float() throws an error, then the input cannot be converted to a number\n",
    "        print(\"Invalid input. Input you must be a number.\")\n",
    "        return None\n",
    "    else:\n",
    "        return True"
   ]
  },
  {
   "cell_type": "markdown",
   "metadata": {},
   "source": [
    "**Question 3.1.2**: Write some test cases for your function. Did you have to change your function based on your test cases? If so, explain. "
   ]
  },
  {
   "cell_type": "code",
   "execution_count": 3,
   "metadata": {},
   "outputs": [],
   "source": [
    "#Answer to question 3.1.2"
   ]
  },
  {
   "cell_type": "code",
   "execution_count": 4,
   "metadata": {},
   "outputs": [
    {
     "name": "stdout",
     "output_type": "stream",
     "text": [
      "True\n",
      "True\n",
      "True\n",
      "True\n",
      "Invalid input. Input you must be a number.\n",
      "None\n"
     ]
    }
   ],
   "source": [
    "#Test integer\n",
    "print(is_number(3))\n",
    "#Test float\n",
    "print(is_number(1.6))\n",
    "#test negative number\n",
    "print(is_number(-88))\n",
    "#test number as string\n",
    "print(is_number(\"5.5\"))\n",
    "#test string\n",
    "print(is_number(\"five\"))"
   ]
  },
  {
   "cell_type": "markdown",
   "metadata": {},
   "source": [
    "**Question 3.1.3**: Write a function `word_freq` that takes in a list of words and counts the frequency of each word in the list. Your function should return a dictionary with the word as the key and the count as the value. \n",
    "\n",
    "Hint: Useful string methods to look at is `count()`."
   ]
  },
  {
   "cell_type": "code",
   "execution_count": 5,
   "metadata": {},
   "outputs": [],
   "source": [
    "#Answer to question 3.1.3"
   ]
  },
  {
   "cell_type": "code",
   "execution_count": 6,
   "metadata": {},
   "outputs": [],
   "source": [
    "#Defining my function\n",
    "def word_freq (word_list):\n",
    "    #initializing empty dictionary\n",
    "    wordfreq = {}\n",
    "    \n",
    "    #looping through each word\n",
    "    for w in word_list:\n",
    "        #checking if we have counted this word already\n",
    "        #this is more efficient \n",
    "        if w not in wordfreq:\n",
    "            wordfreq[w] = word_list.count(w)\n",
    "    \n",
    "    #returning the dictionary\n",
    "    return wordfreq\n"
   ]
  },
  {
   "cell_type": "markdown",
   "metadata": {},
   "source": [
    "**Question 3.1.4**: Write a function  `sort_freq_dict` that takes a dictionary of key value pairs that are words and their frequencies. The function should turn the dictionary into a list of (freq, word) tuples, sorted highest to lowest by frequency. The function should return this list. \n",
    "\n",
    "Hint: list methods `sort()` and `reverse()` will be useful. "
   ]
  },
  {
   "cell_type": "code",
   "execution_count": 7,
   "metadata": {},
   "outputs": [],
   "source": [
    "#Answer to question 3.1.4"
   ]
  },
  {
   "cell_type": "code",
   "execution_count": 8,
   "metadata": {},
   "outputs": [],
   "source": [
    "#defining the function\n",
    "def sort_freq_dict (freq_dict):\n",
    "    #creating an empty list\n",
    "    freq_list = []\n",
    "    \n",
    "    #looping through the dictionary and adding each value, key pair to the list\n",
    "    for key in freq_dict:\n",
    "        freq_list.append((freq_dict[key], key))\n",
    "    \n",
    "    #sorting the list\n",
    "    freq_list.sort()\n",
    "    #reversing the sort to be largest to smallest\n",
    "    freq_list.reverse()\n",
    "    \n",
    "    #returning the list\n",
    "    return freq_list"
   ]
  },
  {
   "cell_type": "markdown",
   "metadata": {},
   "source": [
    "**Question 3.1.5**: Write a function called `remove_stop_words` that takes two lists of words as input (a word list and a stop word list). Your function should return a list of words with all the words in the word list except those found in the stop word list. \n",
    "\n",
    "Note: A stop word list is a list of common words (e.g. the, a, and, etc.)"
   ]
  },
  {
   "cell_type": "code",
   "execution_count": 9,
   "metadata": {},
   "outputs": [],
   "source": [
    "#Answer to question 3.1.5"
   ]
  },
  {
   "cell_type": "code",
   "execution_count": 10,
   "metadata": {},
   "outputs": [],
   "source": [
    "#Defining my function\n",
    "def remove_stop_words(word_list, stop_words):\n",
    "    #creating a new empty list\n",
    "    clean_list = []\n",
    "    \n",
    "    #looping through the list of words\n",
    "    for w in word_list:\n",
    "        #if the word is not in the stop word list, add it to the new list\n",
    "        if w not in stop_words:\n",
    "            clean_list.append(w)\n",
    "    \n",
    "    #return the new list\n",
    "    return clean_list\n",
    "    "
   ]
  },
  {
   "cell_type": "markdown",
   "metadata": {},
   "source": [
    "## 2.2 Text Files\n",
    "\n",
    "**Question 2.2.1**: Read in the text files `stop_words.txt` and turn it into a list of words. \n",
    "\n",
    "Note: when you look at the file you see that each word is on a different line. Remember to remove the newline characters for each line/word.\n",
    "\n",
    "Stopwords from: http://ir.dcs.gla.ac.uk/resources/linguistic_utils/stop_words"
   ]
  },
  {
   "cell_type": "code",
   "execution_count": 11,
   "metadata": {},
   "outputs": [],
   "source": [
    "#Answer to question 2.2.1"
   ]
  },
  {
   "cell_type": "code",
   "execution_count": 12,
   "metadata": {},
   "outputs": [],
   "source": [
    "#Open file\n",
    "file = open('stop_words.txt','r', errors = 'ignore')\n",
    "\n",
    "#create an empty list of words\n",
    "stop_words = []\n",
    "\n",
    "#loop through each line in the file\n",
    "for line in file:\n",
    "    #strip the line of the newline character\n",
    "    line = line.strip(\"\\n\")\n",
    "    #add the word to the list\n",
    "    stop_words.append(line)\n",
    "\n",
    "#close the file\n",
    "file.close()\n"
   ]
  },
  {
   "cell_type": "markdown",
   "metadata": {},
   "source": [
    "**Question 2.2.2**: Write a function `make_wordlist` that takes a filename as the argument. The function reads the file, turning the text to lower case and removes all non alpha-numeric characters. The function returns a list of all the words.  \n",
    "\n",
    "Hint: You will need to use a regular expression for only alphanumeric characters. Use search(pattern, text) and group() methods following the example in class.  \n"
   ]
  },
  {
   "cell_type": "code",
   "execution_count": 13,
   "metadata": {},
   "outputs": [],
   "source": [
    "#Answer to Question 2.2.2"
   ]
  },
  {
   "cell_type": "code",
   "execution_count": 14,
   "metadata": {},
   "outputs": [],
   "source": [
    "def make_wordlist(filename):\n",
    "    #importing regular expression library\n",
    "    import re\n",
    "    \n",
    "    #opening file\n",
    "    file = open(filename, 'r', errors = 'ignore')\n",
    "    \n",
    "    #reading the text\n",
    "    text = file.read()\n",
    "    \n",
    "    #turning the text into a lowercase list of words\n",
    "    #note because text.lower() returns a string,\n",
    "    #the split() method can be then called on that string\n",
    "    word_list = text.lower().split()\n",
    "    clean_list = []\n",
    "    \n",
    "    #Loop through all the words in the list\n",
    "    for w in word_list:\n",
    "        #strip the word of all non alphanumeric characters\n",
    "        clean_word = re.search('\\w+',w)\n",
    "        \n",
    "        #if the regular expression found a word\n",
    "        #add that word to our new list\n",
    "        if clean_word:\n",
    "            clean_list.append(clean_word.group())\n",
    "    \n",
    "    return clean_list\n",
    "    \n",
    "            "
   ]
  },
  {
   "cell_type": "markdown",
   "metadata": {},
   "source": [
    "**Question 2.2.3**: Putting the above together allows you to read a file, clean up the words to remove unwanted characters, and count the frequency of words in the text from the file. This results in a sorted list of words. \n",
    "\n",
    "Run the code below to count the frequency of words in `Speech_2019.txt`. This is the speech given by DK Prime Minister Mette Frederiksen at the opening of parliament. Original found [here](http://www.stm.dk/_p_14878.html).\n",
    "\n",
    "Write the resulting list of words frequencies to a new text file with an appropriate name. Have a look at the file, does it seem like all your functions are working as they should? If not, try and debug the problem"
   ]
  },
  {
   "cell_type": "code",
   "execution_count": 15,
   "metadata": {},
   "outputs": [],
   "source": [
    "#Read the file and turn it into a list of words\n",
    "word_list = make_wordlist('Speech_2019.txt')\n",
    "#remove stop words from the list\n",
    "word_list = remove_stop_words(word_list, stop_words)\n",
    "#count the frequency of different words\n",
    "word_dict = word_freq(word_list)\n",
    "#sort the list\n",
    "sorted_words = sort_freq_dict(word_dict)"
   ]
  },
  {
   "cell_type": "code",
   "execution_count": 16,
   "metadata": {},
   "outputs": [],
   "source": [
    "#Answer to question 2.2.3"
   ]
  },
  {
   "cell_type": "code",
   "execution_count": 17,
   "metadata": {},
   "outputs": [],
   "source": [
    "#Open the file in write mode\n",
    "f = open('Speech_2019_freq.txt','w')\n",
    "\n",
    "#Loop through each tuple and write it as a string, with a new line\n",
    "for word in sorted_words:\n",
    "    f.write(str(word) + \"\\n\")\n",
    "\n",
    "#close the file.\n",
    "f.close()"
   ]
  },
  {
   "cell_type": "markdown",
   "metadata": {},
   "source": [
    "## 2.3 (More) Regular Expressions"
   ]
  },
  {
   "cell_type": "markdown",
   "metadata": {},
   "source": [
    "**Question 2.3.1**: Write a regular expression for a telephone number."
   ]
  },
  {
   "cell_type": "markdown",
   "metadata": {},
   "source": [
    "*Answer to Question 2.3.1* \n",
    "\n",
    "Note this cell is in markdown mode."
   ]
  },
  {
   "cell_type": "markdown",
   "metadata": {},
   "source": [
    "Solution for a Danish telephone number\n",
    "Includes numbers that appear as the following\n",
    "- 11 11 11 11\n",
    "- 11111111\n",
    "- 1111 1111\n",
    "\n",
    "\\d{2}\\s?\\d{2}\\s?\\d{2}\\s?\\d{2}\n"
   ]
  },
  {
   "cell_type": "markdown",
   "metadata": {},
   "source": [
    "**Question 2.3.2**: Write a regular expression for a URL. \n",
    "\n",
    "Note: For this exercise you can use a simple solution that does not account for all possible conditions, but will capture most URLs."
   ]
  },
  {
   "cell_type": "markdown",
   "metadata": {},
   "source": [
    "*Answer to Question 2.3.2* \n",
    "\n",
    "Note this cell is in markdown mode."
   ]
  },
  {
   "cell_type": "markdown",
   "metadata": {},
   "source": [
    "https?\\:\\/\\/(^\\s)+"
   ]
  },
  {
   "cell_type": "markdown",
   "metadata": {},
   "source": [
    "## 2.4 Reflection\n",
    "**Question 2.4.1**: Write a brief paragraph reflecting on your experience learning programming today. What did you struggle with? What did you enjoy? What surprised you?"
   ]
  },
  {
   "cell_type": "markdown",
   "metadata": {},
   "source": [
    "We did exciting things in this exercise! Good work!\n",
    "<img src=\"./octocat.png\" />"
   ]
  },
  {
   "cell_type": "code",
   "execution_count": null,
   "metadata": {},
   "outputs": [],
   "source": []
  }
 ],
 "metadata": {
  "kernelspec": {
   "display_name": "Python 3",
   "language": "python",
   "name": "python3"
  },
  "language_info": {
   "codemirror_mode": {
    "name": "ipython",
    "version": 3
   },
   "file_extension": ".py",
   "mimetype": "text/x-python",
   "name": "python",
   "nbconvert_exporter": "python",
   "pygments_lexer": "ipython3",
   "version": "3.7.4"
  }
 },
 "nbformat": 4,
 "nbformat_minor": 2
}
