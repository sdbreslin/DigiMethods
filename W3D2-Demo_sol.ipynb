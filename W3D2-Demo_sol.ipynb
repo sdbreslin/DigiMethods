{
 "cells": [
  {
   "cell_type": "markdown",
   "metadata": {},
   "source": [
    "# Demo 4: APIs and Functions II \n",
    "\n",
    "## 4.1 Twitter API\n"
   ]
  },
  {
   "cell_type": "markdown",
   "metadata": {},
   "source": [
    "**4.1.1 Installing and importing new modules:** Before we can interact with the Twitter API, we need to install the `tweepy` module. We would usually install modules outside our Jupyter Notebooks using the command line. However, we can actually also interact with the command line from within our Notebooks using the `!` operator. Now, uncomment the cell below and run it."
   ]
  },
  {
   "cell_type": "code",
   "execution_count": null,
   "metadata": {},
   "outputs": [],
   "source": [
    "# # BEFORE WE CAN USE THE TWEEPY LIBRARY, WE NEED DO INSTALL IT\n",
    "# # THAT IS, UNCOMMENT AND EXECUTE THIS CELL ONCE\n",
    "# # need to use sys.prefix to install from within jupyter notebook\n",
    "# # following: https://jakevdp.github.io/blog/2017/12/05/installing-python-packages-from-jupyter/\n",
    "# import sys\n",
    "# ! conda install --yes --prefix {sys.prefix} -c conda-forge tweepy"
   ]
  },
  {
   "cell_type": "markdown",
   "metadata": {},
   "source": [
    "After you have run the above cell, make sure everything worked as expected and that you have successfully installed `tweepy` by importing the module and checking it's version using the commands in the cell below."
   ]
  },
  {
   "cell_type": "code",
   "execution_count": 1,
   "metadata": {},
   "outputs": [
    {
     "name": "stdout",
     "output_type": "stream",
     "text": [
      "3.8.0\n"
     ]
    }
   ],
   "source": [
    "import tweepy\n",
    "print(tweepy.__version__)"
   ]
  },
  {
   "cell_type": "markdown",
   "metadata": {},
   "source": [
    "**4.1.2 Loading credentials and authenticating to the API**: Now that we have installed and imported the `tweepy` module, we can use it to authenticate ourselves to the Twitter API. To do this, we first need to access our credentials from the file _AppCred.py_ we set up earlier in class. Running the cell below will load your Twitter developer credentials and make them available in this session of your Jupyter Notebook."
   ]
  },
  {
   "cell_type": "code",
   "execution_count": 3,
   "metadata": {},
   "outputs": [],
   "source": [
    "from AppCred import CONSUMER_KEY, CONSUMER_SECRET\n",
    "from AppCred import ACCESS_TOKEN, ACCESS_TOKEN_SECRET"
   ]
  },
  {
   "cell_type": "markdown",
   "metadata": {},
   "source": [
    "Now we can start the authentication process to access the Twitter API by passing your consumer details to the `OAuthHandler` function from the `tweepy` module."
   ]
  },
  {
   "cell_type": "code",
   "execution_count": 4,
   "metadata": {},
   "outputs": [],
   "source": [
    "auth = tweepy.OAuthHandler(CONSUMER_KEY, CONSUMER_SECRET)"
   ]
  },
  {
   "cell_type": "markdown",
   "metadata": {},
   "source": [
    "Next, we add our access details to the `auth` variable we just created."
   ]
  },
  {
   "cell_type": "code",
   "execution_count": 5,
   "metadata": {},
   "outputs": [],
   "source": [
    "auth.set_access_token(ACCESS_TOKEN, ACCESS_TOKEN_SECRET)"
   ]
  },
  {
   "cell_type": "markdown",
   "metadata": {},
   "source": [
    "Finally, we pass our `auth` variable to the `API` function provided in the `tweepy` module to generate variable that allows us to interact with Twitter API."
   ]
  },
  {
   "cell_type": "code",
   "execution_count": 6,
   "metadata": {},
   "outputs": [],
   "source": [
    "api = tweepy.API(auth)"
   ]
  },
  {
   "cell_type": "markdown",
   "metadata": {},
   "source": [
    "**4.1.3 Interacting with the Twitter API:** Now that we authenticated ourselves to the Twitter API, we can use it to post and delete tweets from our own account, favorite and retweet tweets from other accounts, and collect information from other public Twitter accounts. \n",
    "\n",
    "**4.1.3.1 Tweeting:** Let's try posting a tweet with our well known example using the `update_status` function."
   ]
  },
  {
   "cell_type": "code",
   "execution_count": null,
   "metadata": {},
   "outputs": [],
   "source": [
    "api.update_status(\"Hello World!\")"
   ]
  },
  {
   "cell_type": "markdown",
   "metadata": {},
   "source": [
    "You just posted your first tweet using Python, how exciting! Now, go to your Twitter profile and see if you can find the tweet by going to _twitter.com/YOUR_USERNAME_.\n",
    "\n",
    "**4.1.3.2 Deleting:** In addition to posting on Twitter, we can also delete our own tweets. To do that we need to find the _tweet id_ of our post. See if you can find your tweet's id, then pass it to the function `destroy_status` below and see what happens when you execute the cell and return to your Twitter profile. "
   ]
  },
  {
   "cell_type": "code",
   "execution_count": null,
   "metadata": {},
   "outputs": [],
   "source": [
    "api.destroy_status(\"YOUR_HELLO_WORLD_TWEET_ID\")"
   ]
  },
  {
   "cell_type": "markdown",
   "metadata": {},
   "source": [
    "**4.1.3.3 Reading:** For many research purposes you might be more interested in collecting information such as tweets from Twitter rather than posting your own. We can also do this in Python using the Twitter API. Let's start with a simple example of accessing the complete timeline of an account I created for our class."
   ]
  },
  {
   "cell_type": "code",
   "execution_count": 7,
   "metadata": {},
   "outputs": [],
   "source": [
    "example_timeline = api.user_timeline(\"vicariousveblen\")"
   ]
  },
  {
   "cell_type": "markdown",
   "metadata": {},
   "source": [
    "This creates a variable of type `tweepy.models.ResultSet` which basically behaves like a list of tweets with the text and a lot of metadata. Knowing that it behaves like a list, how can we see how many tweets we collected?"
   ]
  },
  {
   "cell_type": "code",
   "execution_count": 8,
   "metadata": {},
   "outputs": [
    {
     "data": {
      "text/plain": [
       "4"
      ]
     },
     "execution_count": 8,
     "metadata": {},
     "output_type": "execute_result"
    }
   ],
   "source": [
    "# code to look up how many tweets we collected\n",
    "len(example_timeline)"
   ]
  },
  {
   "cell_type": "markdown",
   "metadata": {},
   "source": [
    "So we collected a set of tweets and now want to look at the content/the texts of these tweets. Remembering that you can work with the `example_timeline` variable like with a list and that each list element has a key called `text` linked to the content of the tweet, how would you access the first tweet in `example_timeline`?"
   ]
  },
  {
   "cell_type": "code",
   "execution_count": 13,
   "metadata": {
    "scrolled": true
   },
   "outputs": [
    {
     "data": {
      "text/plain": [
       "'For the end of vicarious consumption is to enhance, not the fullness of life of the consumer, but the pecuniary rep… https://t.co/x2O7ALCem3'"
      ]
     },
     "execution_count": 13,
     "metadata": {},
     "output_type": "execute_result"
    }
   ],
   "source": [
    "# code to access the content of the first tweet in the timeline\n",
    "example_timeline[0].text "
   ]
  },
  {
   "cell_type": "markdown",
   "metadata": {},
   "source": [
    "Look at this output and compare it to the original tweet [here](https://t.co/x2O7ALCem3). What do you notice? What does that mean for working with the Twitter API in practice?"
   ]
  },
  {
   "cell_type": "markdown",
   "metadata": {},
   "source": [
    "The Twitter API cuts tweets of a certain length but contains information about which tweets are cut in a key called `truncated`. Can you write a loop to look at which of the tweets we collected were cut short?"
   ]
  },
  {
   "cell_type": "code",
   "execution_count": 11,
   "metadata": {
    "scrolled": true
   },
   "outputs": [
    {
     "name": "stdout",
     "output_type": "stream",
     "text": [
      "True\n",
      "False\n",
      "False\n",
      "False\n"
     ]
    }
   ],
   "source": [
    "# code to loop through timeline and tell if tweets were cut short\n",
    "for tweet in example_timeline:\n",
    "    print(tweet.truncated)"
   ]
  },
  {
   "cell_type": "markdown",
   "metadata": {},
   "source": [
    "If we did not have this information, we could use the tools that we have learned already to provide us with the same information. How would you write a loop that does this? _Hint:_ You will want to look at what distinguishes the `text` in truncated tweets from those in untruncated tweets."
   ]
  },
  {
   "cell_type": "code",
   "execution_count": 14,
   "metadata": {},
   "outputs": [
    {
     "name": "stdout",
     "output_type": "stream",
     "text": [
      "True\n",
      "False\n",
      "False\n",
      "False\n"
     ]
    }
   ],
   "source": [
    "# alternative code to loop through timeline \n",
    "# and tell if tweets were cut short\n",
    "for tweet in example_timeline:\n",
    "    print('https://t.co/' in tweet.text)"
   ]
  },
  {
   "cell_type": "markdown",
   "metadata": {},
   "source": [
    "In addition to the tweet content, the API provides us with a host of valuable metadata about the tweets such as how often they were retweeted, favorited, and when they were posted. Looking just at the second tweet using `example_timeline[1]`, can you find the right keys to identify 1) when the tweet was posted, 2) how often it has been retweeted, and 3) how often it has been favorited?"
   ]
  },
  {
   "cell_type": "code",
   "execution_count": 15,
   "metadata": {},
   "outputs": [
    {
     "data": {
      "text/plain": [
       "Status(_api=<tweepy.api.API object at 0x10a0d47d0>, _json={'created_at': 'Tue Feb 18 16:47:23 +0000 2020', 'id': 1229809646287933441, 'id_str': '1229809646287933441', 'text': 'As has already been indicated, the distinction between exploit and drudgery is an invidious distinction between employments.', 'truncated': False, 'entities': {'hashtags': [], 'symbols': [], 'user_mentions': [], 'urls': []}, 'source': '<a href=\"https://google.com\" rel=\"nofollow\">DigitalMethods2020</a>', 'in_reply_to_status_id': None, 'in_reply_to_status_id_str': None, 'in_reply_to_user_id': None, 'in_reply_to_user_id_str': None, 'in_reply_to_screen_name': None, 'user': {'id': 1229786706393620480, 'id_str': '1229786706393620480', 'name': 'vicariousveblen', 'screen_name': 'vicariousveblen', 'location': 'Cato, Wisconsin', 'description': 'Living my best Veblen life, vicariously.', 'url': 'https://t.co/YyaeTc3KgO', 'entities': {'url': {'urls': [{'url': 'https://t.co/YyaeTc3KgO', 'expanded_url': 'https://en.wikipedia.org/wiki/Thorstein_Veblen', 'display_url': 'en.wikipedia.org/wiki/Thorstein…', 'indices': [0, 23]}]}, 'description': {'urls': []}}, 'protected': False, 'followers_count': 2, 'friends_count': 0, 'listed_count': 0, 'created_at': 'Tue Feb 18 15:16:58 +0000 2020', 'favourites_count': 0, 'utc_offset': None, 'time_zone': None, 'geo_enabled': False, 'verified': False, 'statuses_count': 4, 'lang': None, 'contributors_enabled': False, 'is_translator': False, 'is_translation_enabled': False, 'profile_background_color': 'F5F8FA', 'profile_background_image_url': None, 'profile_background_image_url_https': None, 'profile_background_tile': False, 'profile_image_url': 'http://pbs.twimg.com/profile_images/1229787334570336256/6X2Ueuxl_normal.jpg', 'profile_image_url_https': 'https://pbs.twimg.com/profile_images/1229787334570336256/6X2Ueuxl_normal.jpg', 'profile_link_color': '1DA1F2', 'profile_sidebar_border_color': 'C0DEED', 'profile_sidebar_fill_color': 'DDEEF6', 'profile_text_color': '333333', 'profile_use_background_image': True, 'has_extended_profile': False, 'default_profile': True, 'default_profile_image': False, 'following': False, 'follow_request_sent': False, 'notifications': False, 'translator_type': 'none'}, 'geo': None, 'coordinates': None, 'place': None, 'contributors': None, 'is_quote_status': False, 'retweet_count': 0, 'favorite_count': 1, 'favorited': False, 'retweeted': False, 'lang': 'en'}, created_at=datetime.datetime(2020, 2, 18, 16, 47, 23), id=1229809646287933441, id_str='1229809646287933441', text='As has already been indicated, the distinction between exploit and drudgery is an invidious distinction between employments.', truncated=False, entities={'hashtags': [], 'symbols': [], 'user_mentions': [], 'urls': []}, source='DigitalMethods2020', source_url='https://google.com', in_reply_to_status_id=None, in_reply_to_status_id_str=None, in_reply_to_user_id=None, in_reply_to_user_id_str=None, in_reply_to_screen_name=None, author=User(_api=<tweepy.api.API object at 0x10a0d47d0>, _json={'id': 1229786706393620480, 'id_str': '1229786706393620480', 'name': 'vicariousveblen', 'screen_name': 'vicariousveblen', 'location': 'Cato, Wisconsin', 'description': 'Living my best Veblen life, vicariously.', 'url': 'https://t.co/YyaeTc3KgO', 'entities': {'url': {'urls': [{'url': 'https://t.co/YyaeTc3KgO', 'expanded_url': 'https://en.wikipedia.org/wiki/Thorstein_Veblen', 'display_url': 'en.wikipedia.org/wiki/Thorstein…', 'indices': [0, 23]}]}, 'description': {'urls': []}}, 'protected': False, 'followers_count': 2, 'friends_count': 0, 'listed_count': 0, 'created_at': 'Tue Feb 18 15:16:58 +0000 2020', 'favourites_count': 0, 'utc_offset': None, 'time_zone': None, 'geo_enabled': False, 'verified': False, 'statuses_count': 4, 'lang': None, 'contributors_enabled': False, 'is_translator': False, 'is_translation_enabled': False, 'profile_background_color': 'F5F8FA', 'profile_background_image_url': None, 'profile_background_image_url_https': None, 'profile_background_tile': False, 'profile_image_url': 'http://pbs.twimg.com/profile_images/1229787334570336256/6X2Ueuxl_normal.jpg', 'profile_image_url_https': 'https://pbs.twimg.com/profile_images/1229787334570336256/6X2Ueuxl_normal.jpg', 'profile_link_color': '1DA1F2', 'profile_sidebar_border_color': 'C0DEED', 'profile_sidebar_fill_color': 'DDEEF6', 'profile_text_color': '333333', 'profile_use_background_image': True, 'has_extended_profile': False, 'default_profile': True, 'default_profile_image': False, 'following': False, 'follow_request_sent': False, 'notifications': False, 'translator_type': 'none'}, id=1229786706393620480, id_str='1229786706393620480', name='vicariousveblen', screen_name='vicariousveblen', location='Cato, Wisconsin', description='Living my best Veblen life, vicariously.', url='https://t.co/YyaeTc3KgO', entities={'url': {'urls': [{'url': 'https://t.co/YyaeTc3KgO', 'expanded_url': 'https://en.wikipedia.org/wiki/Thorstein_Veblen', 'display_url': 'en.wikipedia.org/wiki/Thorstein…', 'indices': [0, 23]}]}, 'description': {'urls': []}}, protected=False, followers_count=2, friends_count=0, listed_count=0, created_at=datetime.datetime(2020, 2, 18, 15, 16, 58), favourites_count=0, utc_offset=None, time_zone=None, geo_enabled=False, verified=False, statuses_count=4, lang=None, contributors_enabled=False, is_translator=False, is_translation_enabled=False, profile_background_color='F5F8FA', profile_background_image_url=None, profile_background_image_url_https=None, profile_background_tile=False, profile_image_url='http://pbs.twimg.com/profile_images/1229787334570336256/6X2Ueuxl_normal.jpg', profile_image_url_https='https://pbs.twimg.com/profile_images/1229787334570336256/6X2Ueuxl_normal.jpg', profile_link_color='1DA1F2', profile_sidebar_border_color='C0DEED', profile_sidebar_fill_color='DDEEF6', profile_text_color='333333', profile_use_background_image=True, has_extended_profile=False, default_profile=True, default_profile_image=False, following=False, follow_request_sent=False, notifications=False, translator_type='none'), user=User(_api=<tweepy.api.API object at 0x10a0d47d0>, _json={'id': 1229786706393620480, 'id_str': '1229786706393620480', 'name': 'vicariousveblen', 'screen_name': 'vicariousveblen', 'location': 'Cato, Wisconsin', 'description': 'Living my best Veblen life, vicariously.', 'url': 'https://t.co/YyaeTc3KgO', 'entities': {'url': {'urls': [{'url': 'https://t.co/YyaeTc3KgO', 'expanded_url': 'https://en.wikipedia.org/wiki/Thorstein_Veblen', 'display_url': 'en.wikipedia.org/wiki/Thorstein…', 'indices': [0, 23]}]}, 'description': {'urls': []}}, 'protected': False, 'followers_count': 2, 'friends_count': 0, 'listed_count': 0, 'created_at': 'Tue Feb 18 15:16:58 +0000 2020', 'favourites_count': 0, 'utc_offset': None, 'time_zone': None, 'geo_enabled': False, 'verified': False, 'statuses_count': 4, 'lang': None, 'contributors_enabled': False, 'is_translator': False, 'is_translation_enabled': False, 'profile_background_color': 'F5F8FA', 'profile_background_image_url': None, 'profile_background_image_url_https': None, 'profile_background_tile': False, 'profile_image_url': 'http://pbs.twimg.com/profile_images/1229787334570336256/6X2Ueuxl_normal.jpg', 'profile_image_url_https': 'https://pbs.twimg.com/profile_images/1229787334570336256/6X2Ueuxl_normal.jpg', 'profile_link_color': '1DA1F2', 'profile_sidebar_border_color': 'C0DEED', 'profile_sidebar_fill_color': 'DDEEF6', 'profile_text_color': '333333', 'profile_use_background_image': True, 'has_extended_profile': False, 'default_profile': True, 'default_profile_image': False, 'following': False, 'follow_request_sent': False, 'notifications': False, 'translator_type': 'none'}, id=1229786706393620480, id_str='1229786706393620480', name='vicariousveblen', screen_name='vicariousveblen', location='Cato, Wisconsin', description='Living my best Veblen life, vicariously.', url='https://t.co/YyaeTc3KgO', entities={'url': {'urls': [{'url': 'https://t.co/YyaeTc3KgO', 'expanded_url': 'https://en.wikipedia.org/wiki/Thorstein_Veblen', 'display_url': 'en.wikipedia.org/wiki/Thorstein…', 'indices': [0, 23]}]}, 'description': {'urls': []}}, protected=False, followers_count=2, friends_count=0, listed_count=0, created_at=datetime.datetime(2020, 2, 18, 15, 16, 58), favourites_count=0, utc_offset=None, time_zone=None, geo_enabled=False, verified=False, statuses_count=4, lang=None, contributors_enabled=False, is_translator=False, is_translation_enabled=False, profile_background_color='F5F8FA', profile_background_image_url=None, profile_background_image_url_https=None, profile_background_tile=False, profile_image_url='http://pbs.twimg.com/profile_images/1229787334570336256/6X2Ueuxl_normal.jpg', profile_image_url_https='https://pbs.twimg.com/profile_images/1229787334570336256/6X2Ueuxl_normal.jpg', profile_link_color='1DA1F2', profile_sidebar_border_color='C0DEED', profile_sidebar_fill_color='DDEEF6', profile_text_color='333333', profile_use_background_image=True, has_extended_profile=False, default_profile=True, default_profile_image=False, following=False, follow_request_sent=False, notifications=False, translator_type='none'), geo=None, coordinates=None, place=None, contributors=None, is_quote_status=False, retweet_count=0, favorite_count=1, favorited=False, retweeted=False, lang='en')"
      ]
     },
     "execution_count": 15,
     "metadata": {},
     "output_type": "execute_result"
    }
   ],
   "source": [
    "# look at the second element in example_timeline\n",
    "example_timeline[1]"
   ]
  },
  {
   "cell_type": "code",
   "execution_count": 17,
   "metadata": {},
   "outputs": [
    {
     "data": {
      "text/plain": [
       "'2020-02-18 16:47:23'"
      ]
     },
     "execution_count": 17,
     "metadata": {},
     "output_type": "execute_result"
    }
   ],
   "source": [
    "# 1) code to access time of posting\n",
    "example_timeline[1].created_at"
   ]
  },
  {
   "cell_type": "code",
   "execution_count": 18,
   "metadata": {},
   "outputs": [
    {
     "data": {
      "text/plain": [
       "0"
      ]
     },
     "execution_count": 18,
     "metadata": {},
     "output_type": "execute_result"
    }
   ],
   "source": [
    "# 2) code to access number of retweets\n",
    "example_timeline[1].retweet_count"
   ]
  },
  {
   "cell_type": "code",
   "execution_count": 29,
   "metadata": {},
   "outputs": [
    {
     "data": {
      "text/plain": [
       "[Status(_api=<tweepy.api.API object at 0x10a0d47d0>, _json={'created_at': 'Tue Feb 18 16:49:23 +0000 2020', 'id': 1229810150904680452, 'id_str': '1229810150904680452', 'text': 'For the end of vicarious consumption is to enhance, not the fullness of life of the consumer, but the pecuniary rep… https://t.co/x2O7ALCem3', 'truncated': True, 'entities': {'hashtags': [], 'symbols': [], 'user_mentions': [], 'urls': [{'url': 'https://t.co/x2O7ALCem3', 'expanded_url': 'https://twitter.com/i/web/status/1229810150904680452', 'display_url': 'twitter.com/i/web/status/1…', 'indices': [117, 140]}]}, 'source': '<a href=\"https://google.com\" rel=\"nofollow\">DigitalMethods2020</a>', 'in_reply_to_status_id': None, 'in_reply_to_status_id_str': None, 'in_reply_to_user_id': None, 'in_reply_to_user_id_str': None, 'in_reply_to_screen_name': None, 'user': {'id': 1229786706393620480, 'id_str': '1229786706393620480', 'name': 'vicariousveblen', 'screen_name': 'vicariousveblen', 'location': 'Cato, Wisconsin', 'description': 'Living my best Veblen life, vicariously.', 'url': 'https://t.co/YyaeTc3KgO', 'entities': {'url': {'urls': [{'url': 'https://t.co/YyaeTc3KgO', 'expanded_url': 'https://en.wikipedia.org/wiki/Thorstein_Veblen', 'display_url': 'en.wikipedia.org/wiki/Thorstein…', 'indices': [0, 23]}]}, 'description': {'urls': []}}, 'protected': False, 'followers_count': 2, 'friends_count': 0, 'listed_count': 0, 'created_at': 'Tue Feb 18 15:16:58 +0000 2020', 'favourites_count': 0, 'utc_offset': None, 'time_zone': None, 'geo_enabled': False, 'verified': False, 'statuses_count': 4, 'lang': None, 'contributors_enabled': False, 'is_translator': False, 'is_translation_enabled': False, 'profile_background_color': 'F5F8FA', 'profile_background_image_url': None, 'profile_background_image_url_https': None, 'profile_background_tile': False, 'profile_image_url': 'http://pbs.twimg.com/profile_images/1229787334570336256/6X2Ueuxl_normal.jpg', 'profile_image_url_https': 'https://pbs.twimg.com/profile_images/1229787334570336256/6X2Ueuxl_normal.jpg', 'profile_link_color': '1DA1F2', 'profile_sidebar_border_color': 'C0DEED', 'profile_sidebar_fill_color': 'DDEEF6', 'profile_text_color': '333333', 'profile_use_background_image': True, 'has_extended_profile': False, 'default_profile': True, 'default_profile_image': False, 'following': False, 'follow_request_sent': False, 'notifications': False, 'translator_type': 'none'}, 'geo': None, 'coordinates': None, 'place': None, 'contributors': None, 'is_quote_status': False, 'retweet_count': 0, 'favorite_count': 0, 'favorited': False, 'retweeted': False, 'lang': 'en'}, created_at=datetime.datetime(2020, 2, 18, 16, 49, 23), id=1229810150904680452, id_str='1229810150904680452', text='For the end of vicarious consumption is to enhance, not the fullness of life of the consumer, but the pecuniary rep… https://t.co/x2O7ALCem3', truncated=True, entities={'hashtags': [], 'symbols': [], 'user_mentions': [], 'urls': [{'url': 'https://t.co/x2O7ALCem3', 'expanded_url': 'https://twitter.com/i/web/status/1229810150904680452', 'display_url': 'twitter.com/i/web/status/1…', 'indices': [117, 140]}]}, source='DigitalMethods2020', source_url='https://google.com', in_reply_to_status_id=None, in_reply_to_status_id_str=None, in_reply_to_user_id=None, in_reply_to_user_id_str=None, in_reply_to_screen_name=None, author=User(_api=<tweepy.api.API object at 0x10a0d47d0>, _json={'id': 1229786706393620480, 'id_str': '1229786706393620480', 'name': 'vicariousveblen', 'screen_name': 'vicariousveblen', 'location': 'Cato, Wisconsin', 'description': 'Living my best Veblen life, vicariously.', 'url': 'https://t.co/YyaeTc3KgO', 'entities': {'url': {'urls': [{'url': 'https://t.co/YyaeTc3KgO', 'expanded_url': 'https://en.wikipedia.org/wiki/Thorstein_Veblen', 'display_url': 'en.wikipedia.org/wiki/Thorstein…', 'indices': [0, 23]}]}, 'description': {'urls': []}}, 'protected': False, 'followers_count': 2, 'friends_count': 0, 'listed_count': 0, 'created_at': 'Tue Feb 18 15:16:58 +0000 2020', 'favourites_count': 0, 'utc_offset': None, 'time_zone': None, 'geo_enabled': False, 'verified': False, 'statuses_count': 4, 'lang': None, 'contributors_enabled': False, 'is_translator': False, 'is_translation_enabled': False, 'profile_background_color': 'F5F8FA', 'profile_background_image_url': None, 'profile_background_image_url_https': None, 'profile_background_tile': False, 'profile_image_url': 'http://pbs.twimg.com/profile_images/1229787334570336256/6X2Ueuxl_normal.jpg', 'profile_image_url_https': 'https://pbs.twimg.com/profile_images/1229787334570336256/6X2Ueuxl_normal.jpg', 'profile_link_color': '1DA1F2', 'profile_sidebar_border_color': 'C0DEED', 'profile_sidebar_fill_color': 'DDEEF6', 'profile_text_color': '333333', 'profile_use_background_image': True, 'has_extended_profile': False, 'default_profile': True, 'default_profile_image': False, 'following': False, 'follow_request_sent': False, 'notifications': False, 'translator_type': 'none'}, id=1229786706393620480, id_str='1229786706393620480', name='vicariousveblen', screen_name='vicariousveblen', location='Cato, Wisconsin', description='Living my best Veblen life, vicariously.', url='https://t.co/YyaeTc3KgO', entities={'url': {'urls': [{'url': 'https://t.co/YyaeTc3KgO', 'expanded_url': 'https://en.wikipedia.org/wiki/Thorstein_Veblen', 'display_url': 'en.wikipedia.org/wiki/Thorstein…', 'indices': [0, 23]}]}, 'description': {'urls': []}}, protected=False, followers_count=2, friends_count=0, listed_count=0, created_at=datetime.datetime(2020, 2, 18, 15, 16, 58), favourites_count=0, utc_offset=None, time_zone=None, geo_enabled=False, verified=False, statuses_count=4, lang=None, contributors_enabled=False, is_translator=False, is_translation_enabled=False, profile_background_color='F5F8FA', profile_background_image_url=None, profile_background_image_url_https=None, profile_background_tile=False, profile_image_url='http://pbs.twimg.com/profile_images/1229787334570336256/6X2Ueuxl_normal.jpg', profile_image_url_https='https://pbs.twimg.com/profile_images/1229787334570336256/6X2Ueuxl_normal.jpg', profile_link_color='1DA1F2', profile_sidebar_border_color='C0DEED', profile_sidebar_fill_color='DDEEF6', profile_text_color='333333', profile_use_background_image=True, has_extended_profile=False, default_profile=True, default_profile_image=False, following=False, follow_request_sent=False, notifications=False, translator_type='none'), user=User(_api=<tweepy.api.API object at 0x10a0d47d0>, _json={'id': 1229786706393620480, 'id_str': '1229786706393620480', 'name': 'vicariousveblen', 'screen_name': 'vicariousveblen', 'location': 'Cato, Wisconsin', 'description': 'Living my best Veblen life, vicariously.', 'url': 'https://t.co/YyaeTc3KgO', 'entities': {'url': {'urls': [{'url': 'https://t.co/YyaeTc3KgO', 'expanded_url': 'https://en.wikipedia.org/wiki/Thorstein_Veblen', 'display_url': 'en.wikipedia.org/wiki/Thorstein…', 'indices': [0, 23]}]}, 'description': {'urls': []}}, 'protected': False, 'followers_count': 2, 'friends_count': 0, 'listed_count': 0, 'created_at': 'Tue Feb 18 15:16:58 +0000 2020', 'favourites_count': 0, 'utc_offset': None, 'time_zone': None, 'geo_enabled': False, 'verified': False, 'statuses_count': 4, 'lang': None, 'contributors_enabled': False, 'is_translator': False, 'is_translation_enabled': False, 'profile_background_color': 'F5F8FA', 'profile_background_image_url': None, 'profile_background_image_url_https': None, 'profile_background_tile': False, 'profile_image_url': 'http://pbs.twimg.com/profile_images/1229787334570336256/6X2Ueuxl_normal.jpg', 'profile_image_url_https': 'https://pbs.twimg.com/profile_images/1229787334570336256/6X2Ueuxl_normal.jpg', 'profile_link_color': '1DA1F2', 'profile_sidebar_border_color': 'C0DEED', 'profile_sidebar_fill_color': 'DDEEF6', 'profile_text_color': '333333', 'profile_use_background_image': True, 'has_extended_profile': False, 'default_profile': True, 'default_profile_image': False, 'following': False, 'follow_request_sent': False, 'notifications': False, 'translator_type': 'none'}, id=1229786706393620480, id_str='1229786706393620480', name='vicariousveblen', screen_name='vicariousveblen', location='Cato, Wisconsin', description='Living my best Veblen life, vicariously.', url='https://t.co/YyaeTc3KgO', entities={'url': {'urls': [{'url': 'https://t.co/YyaeTc3KgO', 'expanded_url': 'https://en.wikipedia.org/wiki/Thorstein_Veblen', 'display_url': 'en.wikipedia.org/wiki/Thorstein…', 'indices': [0, 23]}]}, 'description': {'urls': []}}, protected=False, followers_count=2, friends_count=0, listed_count=0, created_at=datetime.datetime(2020, 2, 18, 15, 16, 58), favourites_count=0, utc_offset=None, time_zone=None, geo_enabled=False, verified=False, statuses_count=4, lang=None, contributors_enabled=False, is_translator=False, is_translation_enabled=False, profile_background_color='F5F8FA', profile_background_image_url=None, profile_background_image_url_https=None, profile_background_tile=False, profile_image_url='http://pbs.twimg.com/profile_images/1229787334570336256/6X2Ueuxl_normal.jpg', profile_image_url_https='https://pbs.twimg.com/profile_images/1229787334570336256/6X2Ueuxl_normal.jpg', profile_link_color='1DA1F2', profile_sidebar_border_color='C0DEED', profile_sidebar_fill_color='DDEEF6', profile_text_color='333333', profile_use_background_image=True, has_extended_profile=False, default_profile=True, default_profile_image=False, following=False, follow_request_sent=False, notifications=False, translator_type='none'), geo=None, coordinates=None, place=None, contributors=None, is_quote_status=False, retweet_count=0, favorite_count=0, favorited=False, retweeted=False, lang='en'),\n",
       " Status(_api=<tweepy.api.API object at 0x10a0d47d0>, _json={'created_at': 'Tue Feb 18 16:47:23 +0000 2020', 'id': 1229809646287933441, 'id_str': '1229809646287933441', 'text': 'As has already been indicated, the distinction between exploit and drudgery is an invidious distinction between employments.', 'truncated': False, 'entities': {'hashtags': [], 'symbols': [], 'user_mentions': [], 'urls': []}, 'source': '<a href=\"https://google.com\" rel=\"nofollow\">DigitalMethods2020</a>', 'in_reply_to_status_id': None, 'in_reply_to_status_id_str': None, 'in_reply_to_user_id': None, 'in_reply_to_user_id_str': None, 'in_reply_to_screen_name': None, 'user': {'id': 1229786706393620480, 'id_str': '1229786706393620480', 'name': 'vicariousveblen', 'screen_name': 'vicariousveblen', 'location': 'Cato, Wisconsin', 'description': 'Living my best Veblen life, vicariously.', 'url': 'https://t.co/YyaeTc3KgO', 'entities': {'url': {'urls': [{'url': 'https://t.co/YyaeTc3KgO', 'expanded_url': 'https://en.wikipedia.org/wiki/Thorstein_Veblen', 'display_url': 'en.wikipedia.org/wiki/Thorstein…', 'indices': [0, 23]}]}, 'description': {'urls': []}}, 'protected': False, 'followers_count': 2, 'friends_count': 0, 'listed_count': 0, 'created_at': 'Tue Feb 18 15:16:58 +0000 2020', 'favourites_count': 0, 'utc_offset': None, 'time_zone': None, 'geo_enabled': False, 'verified': False, 'statuses_count': 4, 'lang': None, 'contributors_enabled': False, 'is_translator': False, 'is_translation_enabled': False, 'profile_background_color': 'F5F8FA', 'profile_background_image_url': None, 'profile_background_image_url_https': None, 'profile_background_tile': False, 'profile_image_url': 'http://pbs.twimg.com/profile_images/1229787334570336256/6X2Ueuxl_normal.jpg', 'profile_image_url_https': 'https://pbs.twimg.com/profile_images/1229787334570336256/6X2Ueuxl_normal.jpg', 'profile_link_color': '1DA1F2', 'profile_sidebar_border_color': 'C0DEED', 'profile_sidebar_fill_color': 'DDEEF6', 'profile_text_color': '333333', 'profile_use_background_image': True, 'has_extended_profile': False, 'default_profile': True, 'default_profile_image': False, 'following': False, 'follow_request_sent': False, 'notifications': False, 'translator_type': 'none'}, 'geo': None, 'coordinates': None, 'place': None, 'contributors': None, 'is_quote_status': False, 'retweet_count': 0, 'favorite_count': 1, 'favorited': False, 'retweeted': False, 'lang': 'en'}, created_at=datetime.datetime(2020, 2, 18, 16, 47, 23), id=1229809646287933441, id_str='1229809646287933441', text='As has already been indicated, the distinction between exploit and drudgery is an invidious distinction between employments.', truncated=False, entities={'hashtags': [], 'symbols': [], 'user_mentions': [], 'urls': []}, source='DigitalMethods2020', source_url='https://google.com', in_reply_to_status_id=None, in_reply_to_status_id_str=None, in_reply_to_user_id=None, in_reply_to_user_id_str=None, in_reply_to_screen_name=None, author=User(_api=<tweepy.api.API object at 0x10a0d47d0>, _json={'id': 1229786706393620480, 'id_str': '1229786706393620480', 'name': 'vicariousveblen', 'screen_name': 'vicariousveblen', 'location': 'Cato, Wisconsin', 'description': 'Living my best Veblen life, vicariously.', 'url': 'https://t.co/YyaeTc3KgO', 'entities': {'url': {'urls': [{'url': 'https://t.co/YyaeTc3KgO', 'expanded_url': 'https://en.wikipedia.org/wiki/Thorstein_Veblen', 'display_url': 'en.wikipedia.org/wiki/Thorstein…', 'indices': [0, 23]}]}, 'description': {'urls': []}}, 'protected': False, 'followers_count': 2, 'friends_count': 0, 'listed_count': 0, 'created_at': 'Tue Feb 18 15:16:58 +0000 2020', 'favourites_count': 0, 'utc_offset': None, 'time_zone': None, 'geo_enabled': False, 'verified': False, 'statuses_count': 4, 'lang': None, 'contributors_enabled': False, 'is_translator': False, 'is_translation_enabled': False, 'profile_background_color': 'F5F8FA', 'profile_background_image_url': None, 'profile_background_image_url_https': None, 'profile_background_tile': False, 'profile_image_url': 'http://pbs.twimg.com/profile_images/1229787334570336256/6X2Ueuxl_normal.jpg', 'profile_image_url_https': 'https://pbs.twimg.com/profile_images/1229787334570336256/6X2Ueuxl_normal.jpg', 'profile_link_color': '1DA1F2', 'profile_sidebar_border_color': 'C0DEED', 'profile_sidebar_fill_color': 'DDEEF6', 'profile_text_color': '333333', 'profile_use_background_image': True, 'has_extended_profile': False, 'default_profile': True, 'default_profile_image': False, 'following': False, 'follow_request_sent': False, 'notifications': False, 'translator_type': 'none'}, id=1229786706393620480, id_str='1229786706393620480', name='vicariousveblen', screen_name='vicariousveblen', location='Cato, Wisconsin', description='Living my best Veblen life, vicariously.', url='https://t.co/YyaeTc3KgO', entities={'url': {'urls': [{'url': 'https://t.co/YyaeTc3KgO', 'expanded_url': 'https://en.wikipedia.org/wiki/Thorstein_Veblen', 'display_url': 'en.wikipedia.org/wiki/Thorstein…', 'indices': [0, 23]}]}, 'description': {'urls': []}}, protected=False, followers_count=2, friends_count=0, listed_count=0, created_at=datetime.datetime(2020, 2, 18, 15, 16, 58), favourites_count=0, utc_offset=None, time_zone=None, geo_enabled=False, verified=False, statuses_count=4, lang=None, contributors_enabled=False, is_translator=False, is_translation_enabled=False, profile_background_color='F5F8FA', profile_background_image_url=None, profile_background_image_url_https=None, profile_background_tile=False, profile_image_url='http://pbs.twimg.com/profile_images/1229787334570336256/6X2Ueuxl_normal.jpg', profile_image_url_https='https://pbs.twimg.com/profile_images/1229787334570336256/6X2Ueuxl_normal.jpg', profile_link_color='1DA1F2', profile_sidebar_border_color='C0DEED', profile_sidebar_fill_color='DDEEF6', profile_text_color='333333', profile_use_background_image=True, has_extended_profile=False, default_profile=True, default_profile_image=False, following=False, follow_request_sent=False, notifications=False, translator_type='none'), user=User(_api=<tweepy.api.API object at 0x10a0d47d0>, _json={'id': 1229786706393620480, 'id_str': '1229786706393620480', 'name': 'vicariousveblen', 'screen_name': 'vicariousveblen', 'location': 'Cato, Wisconsin', 'description': 'Living my best Veblen life, vicariously.', 'url': 'https://t.co/YyaeTc3KgO', 'entities': {'url': {'urls': [{'url': 'https://t.co/YyaeTc3KgO', 'expanded_url': 'https://en.wikipedia.org/wiki/Thorstein_Veblen', 'display_url': 'en.wikipedia.org/wiki/Thorstein…', 'indices': [0, 23]}]}, 'description': {'urls': []}}, 'protected': False, 'followers_count': 2, 'friends_count': 0, 'listed_count': 0, 'created_at': 'Tue Feb 18 15:16:58 +0000 2020', 'favourites_count': 0, 'utc_offset': None, 'time_zone': None, 'geo_enabled': False, 'verified': False, 'statuses_count': 4, 'lang': None, 'contributors_enabled': False, 'is_translator': False, 'is_translation_enabled': False, 'profile_background_color': 'F5F8FA', 'profile_background_image_url': None, 'profile_background_image_url_https': None, 'profile_background_tile': False, 'profile_image_url': 'http://pbs.twimg.com/profile_images/1229787334570336256/6X2Ueuxl_normal.jpg', 'profile_image_url_https': 'https://pbs.twimg.com/profile_images/1229787334570336256/6X2Ueuxl_normal.jpg', 'profile_link_color': '1DA1F2', 'profile_sidebar_border_color': 'C0DEED', 'profile_sidebar_fill_color': 'DDEEF6', 'profile_text_color': '333333', 'profile_use_background_image': True, 'has_extended_profile': False, 'default_profile': True, 'default_profile_image': False, 'following': False, 'follow_request_sent': False, 'notifications': False, 'translator_type': 'none'}, id=1229786706393620480, id_str='1229786706393620480', name='vicariousveblen', screen_name='vicariousveblen', location='Cato, Wisconsin', description='Living my best Veblen life, vicariously.', url='https://t.co/YyaeTc3KgO', entities={'url': {'urls': [{'url': 'https://t.co/YyaeTc3KgO', 'expanded_url': 'https://en.wikipedia.org/wiki/Thorstein_Veblen', 'display_url': 'en.wikipedia.org/wiki/Thorstein…', 'indices': [0, 23]}]}, 'description': {'urls': []}}, protected=False, followers_count=2, friends_count=0, listed_count=0, created_at=datetime.datetime(2020, 2, 18, 15, 16, 58), favourites_count=0, utc_offset=None, time_zone=None, geo_enabled=False, verified=False, statuses_count=4, lang=None, contributors_enabled=False, is_translator=False, is_translation_enabled=False, profile_background_color='F5F8FA', profile_background_image_url=None, profile_background_image_url_https=None, profile_background_tile=False, profile_image_url='http://pbs.twimg.com/profile_images/1229787334570336256/6X2Ueuxl_normal.jpg', profile_image_url_https='https://pbs.twimg.com/profile_images/1229787334570336256/6X2Ueuxl_normal.jpg', profile_link_color='1DA1F2', profile_sidebar_border_color='C0DEED', profile_sidebar_fill_color='DDEEF6', profile_text_color='333333', profile_use_background_image=True, has_extended_profile=False, default_profile=True, default_profile_image=False, following=False, follow_request_sent=False, notifications=False, translator_type='none'), geo=None, coordinates=None, place=None, contributors=None, is_quote_status=False, retweet_count=0, favorite_count=1, favorited=False, retweeted=False, lang='en'),\n",
       " Status(_api=<tweepy.api.API object at 0x10a0d47d0>, _json={'created_at': 'Tue Feb 18 16:45:22 +0000 2020', 'id': 1229809141423669250, 'id_str': '1229809141423669250', 'text': 'High-bred manners and ways of living are items of conformity to the norm of conspicuous leisure and conspicuous consumption.', 'truncated': False, 'entities': {'hashtags': [], 'symbols': [], 'user_mentions': [], 'urls': []}, 'source': '<a href=\"https://google.com\" rel=\"nofollow\">DigitalMethods2020</a>', 'in_reply_to_status_id': None, 'in_reply_to_status_id_str': None, 'in_reply_to_user_id': None, 'in_reply_to_user_id_str': None, 'in_reply_to_screen_name': None, 'user': {'id': 1229786706393620480, 'id_str': '1229786706393620480', 'name': 'vicariousveblen', 'screen_name': 'vicariousveblen', 'location': 'Cato, Wisconsin', 'description': 'Living my best Veblen life, vicariously.', 'url': 'https://t.co/YyaeTc3KgO', 'entities': {'url': {'urls': [{'url': 'https://t.co/YyaeTc3KgO', 'expanded_url': 'https://en.wikipedia.org/wiki/Thorstein_Veblen', 'display_url': 'en.wikipedia.org/wiki/Thorstein…', 'indices': [0, 23]}]}, 'description': {'urls': []}}, 'protected': False, 'followers_count': 2, 'friends_count': 0, 'listed_count': 0, 'created_at': 'Tue Feb 18 15:16:58 +0000 2020', 'favourites_count': 0, 'utc_offset': None, 'time_zone': None, 'geo_enabled': False, 'verified': False, 'statuses_count': 4, 'lang': None, 'contributors_enabled': False, 'is_translator': False, 'is_translation_enabled': False, 'profile_background_color': 'F5F8FA', 'profile_background_image_url': None, 'profile_background_image_url_https': None, 'profile_background_tile': False, 'profile_image_url': 'http://pbs.twimg.com/profile_images/1229787334570336256/6X2Ueuxl_normal.jpg', 'profile_image_url_https': 'https://pbs.twimg.com/profile_images/1229787334570336256/6X2Ueuxl_normal.jpg', 'profile_link_color': '1DA1F2', 'profile_sidebar_border_color': 'C0DEED', 'profile_sidebar_fill_color': 'DDEEF6', 'profile_text_color': '333333', 'profile_use_background_image': True, 'has_extended_profile': False, 'default_profile': True, 'default_profile_image': False, 'following': False, 'follow_request_sent': False, 'notifications': False, 'translator_type': 'none'}, 'geo': None, 'coordinates': None, 'place': None, 'contributors': None, 'is_quote_status': False, 'retweet_count': 0, 'favorite_count': 0, 'favorited': False, 'retweeted': False, 'lang': 'en'}, created_at=datetime.datetime(2020, 2, 18, 16, 45, 22), id=1229809141423669250, id_str='1229809141423669250', text='High-bred manners and ways of living are items of conformity to the norm of conspicuous leisure and conspicuous consumption.', truncated=False, entities={'hashtags': [], 'symbols': [], 'user_mentions': [], 'urls': []}, source='DigitalMethods2020', source_url='https://google.com', in_reply_to_status_id=None, in_reply_to_status_id_str=None, in_reply_to_user_id=None, in_reply_to_user_id_str=None, in_reply_to_screen_name=None, author=User(_api=<tweepy.api.API object at 0x10a0d47d0>, _json={'id': 1229786706393620480, 'id_str': '1229786706393620480', 'name': 'vicariousveblen', 'screen_name': 'vicariousveblen', 'location': 'Cato, Wisconsin', 'description': 'Living my best Veblen life, vicariously.', 'url': 'https://t.co/YyaeTc3KgO', 'entities': {'url': {'urls': [{'url': 'https://t.co/YyaeTc3KgO', 'expanded_url': 'https://en.wikipedia.org/wiki/Thorstein_Veblen', 'display_url': 'en.wikipedia.org/wiki/Thorstein…', 'indices': [0, 23]}]}, 'description': {'urls': []}}, 'protected': False, 'followers_count': 2, 'friends_count': 0, 'listed_count': 0, 'created_at': 'Tue Feb 18 15:16:58 +0000 2020', 'favourites_count': 0, 'utc_offset': None, 'time_zone': None, 'geo_enabled': False, 'verified': False, 'statuses_count': 4, 'lang': None, 'contributors_enabled': False, 'is_translator': False, 'is_translation_enabled': False, 'profile_background_color': 'F5F8FA', 'profile_background_image_url': None, 'profile_background_image_url_https': None, 'profile_background_tile': False, 'profile_image_url': 'http://pbs.twimg.com/profile_images/1229787334570336256/6X2Ueuxl_normal.jpg', 'profile_image_url_https': 'https://pbs.twimg.com/profile_images/1229787334570336256/6X2Ueuxl_normal.jpg', 'profile_link_color': '1DA1F2', 'profile_sidebar_border_color': 'C0DEED', 'profile_sidebar_fill_color': 'DDEEF6', 'profile_text_color': '333333', 'profile_use_background_image': True, 'has_extended_profile': False, 'default_profile': True, 'default_profile_image': False, 'following': False, 'follow_request_sent': False, 'notifications': False, 'translator_type': 'none'}, id=1229786706393620480, id_str='1229786706393620480', name='vicariousveblen', screen_name='vicariousveblen', location='Cato, Wisconsin', description='Living my best Veblen life, vicariously.', url='https://t.co/YyaeTc3KgO', entities={'url': {'urls': [{'url': 'https://t.co/YyaeTc3KgO', 'expanded_url': 'https://en.wikipedia.org/wiki/Thorstein_Veblen', 'display_url': 'en.wikipedia.org/wiki/Thorstein…', 'indices': [0, 23]}]}, 'description': {'urls': []}}, protected=False, followers_count=2, friends_count=0, listed_count=0, created_at=datetime.datetime(2020, 2, 18, 15, 16, 58), favourites_count=0, utc_offset=None, time_zone=None, geo_enabled=False, verified=False, statuses_count=4, lang=None, contributors_enabled=False, is_translator=False, is_translation_enabled=False, profile_background_color='F5F8FA', profile_background_image_url=None, profile_background_image_url_https=None, profile_background_tile=False, profile_image_url='http://pbs.twimg.com/profile_images/1229787334570336256/6X2Ueuxl_normal.jpg', profile_image_url_https='https://pbs.twimg.com/profile_images/1229787334570336256/6X2Ueuxl_normal.jpg', profile_link_color='1DA1F2', profile_sidebar_border_color='C0DEED', profile_sidebar_fill_color='DDEEF6', profile_text_color='333333', profile_use_background_image=True, has_extended_profile=False, default_profile=True, default_profile_image=False, following=False, follow_request_sent=False, notifications=False, translator_type='none'), user=User(_api=<tweepy.api.API object at 0x10a0d47d0>, _json={'id': 1229786706393620480, 'id_str': '1229786706393620480', 'name': 'vicariousveblen', 'screen_name': 'vicariousveblen', 'location': 'Cato, Wisconsin', 'description': 'Living my best Veblen life, vicariously.', 'url': 'https://t.co/YyaeTc3KgO', 'entities': {'url': {'urls': [{'url': 'https://t.co/YyaeTc3KgO', 'expanded_url': 'https://en.wikipedia.org/wiki/Thorstein_Veblen', 'display_url': 'en.wikipedia.org/wiki/Thorstein…', 'indices': [0, 23]}]}, 'description': {'urls': []}}, 'protected': False, 'followers_count': 2, 'friends_count': 0, 'listed_count': 0, 'created_at': 'Tue Feb 18 15:16:58 +0000 2020', 'favourites_count': 0, 'utc_offset': None, 'time_zone': None, 'geo_enabled': False, 'verified': False, 'statuses_count': 4, 'lang': None, 'contributors_enabled': False, 'is_translator': False, 'is_translation_enabled': False, 'profile_background_color': 'F5F8FA', 'profile_background_image_url': None, 'profile_background_image_url_https': None, 'profile_background_tile': False, 'profile_image_url': 'http://pbs.twimg.com/profile_images/1229787334570336256/6X2Ueuxl_normal.jpg', 'profile_image_url_https': 'https://pbs.twimg.com/profile_images/1229787334570336256/6X2Ueuxl_normal.jpg', 'profile_link_color': '1DA1F2', 'profile_sidebar_border_color': 'C0DEED', 'profile_sidebar_fill_color': 'DDEEF6', 'profile_text_color': '333333', 'profile_use_background_image': True, 'has_extended_profile': False, 'default_profile': True, 'default_profile_image': False, 'following': False, 'follow_request_sent': False, 'notifications': False, 'translator_type': 'none'}, id=1229786706393620480, id_str='1229786706393620480', name='vicariousveblen', screen_name='vicariousveblen', location='Cato, Wisconsin', description='Living my best Veblen life, vicariously.', url='https://t.co/YyaeTc3KgO', entities={'url': {'urls': [{'url': 'https://t.co/YyaeTc3KgO', 'expanded_url': 'https://en.wikipedia.org/wiki/Thorstein_Veblen', 'display_url': 'en.wikipedia.org/wiki/Thorstein…', 'indices': [0, 23]}]}, 'description': {'urls': []}}, protected=False, followers_count=2, friends_count=0, listed_count=0, created_at=datetime.datetime(2020, 2, 18, 15, 16, 58), favourites_count=0, utc_offset=None, time_zone=None, geo_enabled=False, verified=False, statuses_count=4, lang=None, contributors_enabled=False, is_translator=False, is_translation_enabled=False, profile_background_color='F5F8FA', profile_background_image_url=None, profile_background_image_url_https=None, profile_background_tile=False, profile_image_url='http://pbs.twimg.com/profile_images/1229787334570336256/6X2Ueuxl_normal.jpg', profile_image_url_https='https://pbs.twimg.com/profile_images/1229787334570336256/6X2Ueuxl_normal.jpg', profile_link_color='1DA1F2', profile_sidebar_border_color='C0DEED', profile_sidebar_fill_color='DDEEF6', profile_text_color='333333', profile_use_background_image=True, has_extended_profile=False, default_profile=True, default_profile_image=False, following=False, follow_request_sent=False, notifications=False, translator_type='none'), geo=None, coordinates=None, place=None, contributors=None, is_quote_status=False, retweet_count=0, favorite_count=0, favorited=False, retweeted=False, lang='en'),\n",
       " Status(_api=<tweepy.api.API object at 0x10a0d47d0>, _json={'created_at': 'Tue Feb 18 16:16:46 +0000 2020', 'id': 1229801942915874816, 'id_str': '1229801942915874816', 'text': 'Hello World!', 'truncated': False, 'entities': {'hashtags': [], 'symbols': [], 'user_mentions': [], 'urls': []}, 'source': '<a href=\"https://google.com\" rel=\"nofollow\">DigitalMethods2020</a>', 'in_reply_to_status_id': None, 'in_reply_to_status_id_str': None, 'in_reply_to_user_id': None, 'in_reply_to_user_id_str': None, 'in_reply_to_screen_name': None, 'user': {'id': 1229786706393620480, 'id_str': '1229786706393620480', 'name': 'vicariousveblen', 'screen_name': 'vicariousveblen', 'location': 'Cato, Wisconsin', 'description': 'Living my best Veblen life, vicariously.', 'url': 'https://t.co/YyaeTc3KgO', 'entities': {'url': {'urls': [{'url': 'https://t.co/YyaeTc3KgO', 'expanded_url': 'https://en.wikipedia.org/wiki/Thorstein_Veblen', 'display_url': 'en.wikipedia.org/wiki/Thorstein…', 'indices': [0, 23]}]}, 'description': {'urls': []}}, 'protected': False, 'followers_count': 2, 'friends_count': 0, 'listed_count': 0, 'created_at': 'Tue Feb 18 15:16:58 +0000 2020', 'favourites_count': 0, 'utc_offset': None, 'time_zone': None, 'geo_enabled': False, 'verified': False, 'statuses_count': 4, 'lang': None, 'contributors_enabled': False, 'is_translator': False, 'is_translation_enabled': False, 'profile_background_color': 'F5F8FA', 'profile_background_image_url': None, 'profile_background_image_url_https': None, 'profile_background_tile': False, 'profile_image_url': 'http://pbs.twimg.com/profile_images/1229787334570336256/6X2Ueuxl_normal.jpg', 'profile_image_url_https': 'https://pbs.twimg.com/profile_images/1229787334570336256/6X2Ueuxl_normal.jpg', 'profile_link_color': '1DA1F2', 'profile_sidebar_border_color': 'C0DEED', 'profile_sidebar_fill_color': 'DDEEF6', 'profile_text_color': '333333', 'profile_use_background_image': True, 'has_extended_profile': False, 'default_profile': True, 'default_profile_image': False, 'following': False, 'follow_request_sent': False, 'notifications': False, 'translator_type': 'none'}, 'geo': None, 'coordinates': None, 'place': None, 'contributors': None, 'is_quote_status': False, 'retweet_count': 0, 'favorite_count': 0, 'favorited': False, 'retweeted': False, 'lang': 'en'}, created_at=datetime.datetime(2020, 2, 18, 16, 16, 46), id=1229801942915874816, id_str='1229801942915874816', text='Hello World!', truncated=False, entities={'hashtags': [], 'symbols': [], 'user_mentions': [], 'urls': []}, source='DigitalMethods2020', source_url='https://google.com', in_reply_to_status_id=None, in_reply_to_status_id_str=None, in_reply_to_user_id=None, in_reply_to_user_id_str=None, in_reply_to_screen_name=None, author=User(_api=<tweepy.api.API object at 0x10a0d47d0>, _json={'id': 1229786706393620480, 'id_str': '1229786706393620480', 'name': 'vicariousveblen', 'screen_name': 'vicariousveblen', 'location': 'Cato, Wisconsin', 'description': 'Living my best Veblen life, vicariously.', 'url': 'https://t.co/YyaeTc3KgO', 'entities': {'url': {'urls': [{'url': 'https://t.co/YyaeTc3KgO', 'expanded_url': 'https://en.wikipedia.org/wiki/Thorstein_Veblen', 'display_url': 'en.wikipedia.org/wiki/Thorstein…', 'indices': [0, 23]}]}, 'description': {'urls': []}}, 'protected': False, 'followers_count': 2, 'friends_count': 0, 'listed_count': 0, 'created_at': 'Tue Feb 18 15:16:58 +0000 2020', 'favourites_count': 0, 'utc_offset': None, 'time_zone': None, 'geo_enabled': False, 'verified': False, 'statuses_count': 4, 'lang': None, 'contributors_enabled': False, 'is_translator': False, 'is_translation_enabled': False, 'profile_background_color': 'F5F8FA', 'profile_background_image_url': None, 'profile_background_image_url_https': None, 'profile_background_tile': False, 'profile_image_url': 'http://pbs.twimg.com/profile_images/1229787334570336256/6X2Ueuxl_normal.jpg', 'profile_image_url_https': 'https://pbs.twimg.com/profile_images/1229787334570336256/6X2Ueuxl_normal.jpg', 'profile_link_color': '1DA1F2', 'profile_sidebar_border_color': 'C0DEED', 'profile_sidebar_fill_color': 'DDEEF6', 'profile_text_color': '333333', 'profile_use_background_image': True, 'has_extended_profile': False, 'default_profile': True, 'default_profile_image': False, 'following': False, 'follow_request_sent': False, 'notifications': False, 'translator_type': 'none'}, id=1229786706393620480, id_str='1229786706393620480', name='vicariousveblen', screen_name='vicariousveblen', location='Cato, Wisconsin', description='Living my best Veblen life, vicariously.', url='https://t.co/YyaeTc3KgO', entities={'url': {'urls': [{'url': 'https://t.co/YyaeTc3KgO', 'expanded_url': 'https://en.wikipedia.org/wiki/Thorstein_Veblen', 'display_url': 'en.wikipedia.org/wiki/Thorstein…', 'indices': [0, 23]}]}, 'description': {'urls': []}}, protected=False, followers_count=2, friends_count=0, listed_count=0, created_at=datetime.datetime(2020, 2, 18, 15, 16, 58), favourites_count=0, utc_offset=None, time_zone=None, geo_enabled=False, verified=False, statuses_count=4, lang=None, contributors_enabled=False, is_translator=False, is_translation_enabled=False, profile_background_color='F5F8FA', profile_background_image_url=None, profile_background_image_url_https=None, profile_background_tile=False, profile_image_url='http://pbs.twimg.com/profile_images/1229787334570336256/6X2Ueuxl_normal.jpg', profile_image_url_https='https://pbs.twimg.com/profile_images/1229787334570336256/6X2Ueuxl_normal.jpg', profile_link_color='1DA1F2', profile_sidebar_border_color='C0DEED', profile_sidebar_fill_color='DDEEF6', profile_text_color='333333', profile_use_background_image=True, has_extended_profile=False, default_profile=True, default_profile_image=False, following=False, follow_request_sent=False, notifications=False, translator_type='none'), user=User(_api=<tweepy.api.API object at 0x10a0d47d0>, _json={'id': 1229786706393620480, 'id_str': '1229786706393620480', 'name': 'vicariousveblen', 'screen_name': 'vicariousveblen', 'location': 'Cato, Wisconsin', 'description': 'Living my best Veblen life, vicariously.', 'url': 'https://t.co/YyaeTc3KgO', 'entities': {'url': {'urls': [{'url': 'https://t.co/YyaeTc3KgO', 'expanded_url': 'https://en.wikipedia.org/wiki/Thorstein_Veblen', 'display_url': 'en.wikipedia.org/wiki/Thorstein…', 'indices': [0, 23]}]}, 'description': {'urls': []}}, 'protected': False, 'followers_count': 2, 'friends_count': 0, 'listed_count': 0, 'created_at': 'Tue Feb 18 15:16:58 +0000 2020', 'favourites_count': 0, 'utc_offset': None, 'time_zone': None, 'geo_enabled': False, 'verified': False, 'statuses_count': 4, 'lang': None, 'contributors_enabled': False, 'is_translator': False, 'is_translation_enabled': False, 'profile_background_color': 'F5F8FA', 'profile_background_image_url': None, 'profile_background_image_url_https': None, 'profile_background_tile': False, 'profile_image_url': 'http://pbs.twimg.com/profile_images/1229787334570336256/6X2Ueuxl_normal.jpg', 'profile_image_url_https': 'https://pbs.twimg.com/profile_images/1229787334570336256/6X2Ueuxl_normal.jpg', 'profile_link_color': '1DA1F2', 'profile_sidebar_border_color': 'C0DEED', 'profile_sidebar_fill_color': 'DDEEF6', 'profile_text_color': '333333', 'profile_use_background_image': True, 'has_extended_profile': False, 'default_profile': True, 'default_profile_image': False, 'following': False, 'follow_request_sent': False, 'notifications': False, 'translator_type': 'none'}, id=1229786706393620480, id_str='1229786706393620480', name='vicariousveblen', screen_name='vicariousveblen', location='Cato, Wisconsin', description='Living my best Veblen life, vicariously.', url='https://t.co/YyaeTc3KgO', entities={'url': {'urls': [{'url': 'https://t.co/YyaeTc3KgO', 'expanded_url': 'https://en.wikipedia.org/wiki/Thorstein_Veblen', 'display_url': 'en.wikipedia.org/wiki/Thorstein…', 'indices': [0, 23]}]}, 'description': {'urls': []}}, protected=False, followers_count=2, friends_count=0, listed_count=0, created_at=datetime.datetime(2020, 2, 18, 15, 16, 58), favourites_count=0, utc_offset=None, time_zone=None, geo_enabled=False, verified=False, statuses_count=4, lang=None, contributors_enabled=False, is_translator=False, is_translation_enabled=False, profile_background_color='F5F8FA', profile_background_image_url=None, profile_background_image_url_https=None, profile_background_tile=False, profile_image_url='http://pbs.twimg.com/profile_images/1229787334570336256/6X2Ueuxl_normal.jpg', profile_image_url_https='https://pbs.twimg.com/profile_images/1229787334570336256/6X2Ueuxl_normal.jpg', profile_link_color='1DA1F2', profile_sidebar_border_color='C0DEED', profile_sidebar_fill_color='DDEEF6', profile_text_color='333333', profile_use_background_image=True, has_extended_profile=False, default_profile=True, default_profile_image=False, following=False, follow_request_sent=False, notifications=False, translator_type='none'), geo=None, coordinates=None, place=None, contributors=None, is_quote_status=False, retweet_count=0, favorite_count=0, favorited=False, retweeted=False, lang='en')]"
      ]
     },
     "execution_count": 29,
     "metadata": {},
     "output_type": "execute_result"
    }
   ],
   "source": [
    "# 3) code to access number of favorites\n",
    "example_timeline[1].favorite_count"
   ]
  },
  {
   "cell_type": "markdown",
   "metadata": {},
   "source": [
    "Beside allowing us to collect all the tweets produced by public Twitter accounts, the Twitter API also allows us to only access information about the Twitter acounts. The function to do this in `tweepy` is called `get_user`."
   ]
  },
  {
   "cell_type": "code",
   "execution_count": 20,
   "metadata": {},
   "outputs": [],
   "source": [
    "example_user = api.get_user(\"vicariousveblen\")"
   ]
  },
  {
   "cell_type": "markdown",
   "metadata": {},
   "source": [
    "Once we have collected the user profile, we can look at things like their location, their description or about me section, how often they have posted and who they follow and who follows them. The variable type returned by `get_user` is slightly easier to navigate to access these information since they are not nested in tweets."
   ]
  },
  {
   "cell_type": "code",
   "execution_count": 21,
   "metadata": {},
   "outputs": [
    {
     "data": {
      "text/plain": [
       "'Cato, Wisconsin'"
      ]
     },
     "execution_count": 21,
     "metadata": {},
     "output_type": "execute_result"
    }
   ],
   "source": [
    "# where does our example account live?\n",
    "example_user.location"
   ]
  },
  {
   "cell_type": "code",
   "execution_count": 22,
   "metadata": {},
   "outputs": [
    {
     "data": {
      "text/plain": [
       "'Living my best Veblen life, vicariously.'"
      ]
     },
     "execution_count": 22,
     "metadata": {},
     "output_type": "execute_result"
    }
   ],
   "source": [
    "# what does the description say\n",
    "example_user.description"
   ]
  },
  {
   "cell_type": "code",
   "execution_count": 23,
   "metadata": {},
   "outputs": [
    {
     "name": "stdout",
     "output_type": "stream",
     "text": [
      "The account vicariousveblen has 2 accounts following it.\n",
      "The account vicariousveblen is following 0 accounts.\n"
     ]
    }
   ],
   "source": [
    "# does the account follow anyone or have any friends?\n",
    "print(\"The account \" + str(example_user.name) + \" has \" + str(example_user.followers_count) + \" accounts following it.\")\n",
    "print(\"The account \" + str(example_user.name) + \" is following \" + str(example_user.friends_count) + \" accounts.\")"
   ]
  },
  {
   "cell_type": "markdown",
   "metadata": {},
   "source": [
    "Finally the Twitter API has functionality with which we can look for certain keywords in all of Twitter. We can access this using `tweepy`'s  `search` function. For example, if we wanted to look for tweets using the hashtag '#DigitalMethods', we could search like this."
   ]
  },
  {
   "cell_type": "code",
   "execution_count": 24,
   "metadata": {},
   "outputs": [],
   "source": [
    "digimeth_tweets = api.search(\"#DigitalMethods\")"
   ]
  },
  {
   "cell_type": "markdown",
   "metadata": {},
   "source": [
    "Then, we could look at who tweets about '#DigitalMethods' by parsing the returned data like this."
   ]
  },
  {
   "cell_type": "code",
   "execution_count": 25,
   "metadata": {},
   "outputs": [
    {
     "name": "stdout",
     "output_type": "stream",
     "text": [
      "mon Rodriguez-Amat\n",
      "mon Rodriguez-Amat\n",
      "Nicolo' Dell'Unto\n",
      "mLab Geography Bern\n",
      "DOS Research Group\n",
      "Feministische Geographie Bern\n",
      "Christian Ziegler\n",
      "Gale Australia / NZ\n",
      "K. White\n",
      "DH i Norden\n",
      "Raquel Recuero\n",
      "Earvin Charles Cabalquinto, PhD\n",
      "@DHUppsala\n",
      "Marieta Autor-Caparas\n",
      "GaleEMEA\n"
     ]
    }
   ],
   "source": [
    "for tweet in digimeth_tweets:\n",
    "    print(tweet._json['user']['name'])"
   ]
  },
  {
   "cell_type": "markdown",
   "metadata": {},
   "source": [
    "**4.1.3.4 Rate limiting:** While we are only working with a few tweets or a limited number of accounts, we will not run into any problems. However, it is good general practice to always keep an eye on the rate limits set on us by the Twitter API. The `tweepy` module provides the function `rate_limit_status` to do so."
   ]
  },
  {
   "cell_type": "code",
   "execution_count": 26,
   "metadata": {},
   "outputs": [],
   "source": [
    "# check our current rate limit status\n",
    "current_limits = api.rate_limit_status()"
   ]
  },
  {
   "cell_type": "markdown",
   "metadata": {},
   "source": [
    "The variable `rate_limit_status` returns is a dictionary, that means it is intuitive to index once we know the keys. The keys that will likely be most important to us relate to searches and users."
   ]
  },
  {
   "cell_type": "code",
   "execution_count": 27,
   "metadata": {},
   "outputs": [
    {
     "data": {
      "text/plain": [
       "{'limit': 900, 'remaining': 900, 'reset': 1582627777}"
      ]
     },
     "execution_count": 27,
     "metadata": {},
     "output_type": "execute_result"
    }
   ],
   "source": [
    "# rate limit on the number of times we can call `get_user` within a 15 minute window\n",
    "current_limits['resources']['users']['/users/lookup']"
   ]
  },
  {
   "cell_type": "code",
   "execution_count": 28,
   "metadata": {},
   "outputs": [
    {
     "data": {
      "text/plain": [
       "{'limit': 900, 'remaining': 900, 'reset': 1582627777}"
      ]
     },
     "execution_count": 28,
     "metadata": {},
     "output_type": "execute_result"
    }
   ],
   "source": [
    "# rate limit on the number of times we can call `user_timeline` within a 15 minute window\n",
    "current_limits['resources']['statuses']['/statuses/user_timeline']"
   ]
  },
  {
   "cell_type": "markdown",
   "metadata": {},
   "source": [
    "## 4.2 Using functions to process data from the Twitter API \n",
    "Now that we know about some of the information that we can gather from Twitter and the structure in which it is returned to us, we can see even more use for defining our own functions. For example, we can combine all the tweets we retrieved for our example account and see what the account is tweeting about most."
   ]
  },
  {
   "cell_type": "code",
   "execution_count": 30,
   "metadata": {},
   "outputs": [],
   "source": [
    "# define the function `user_gist` taking one argument\n",
    "def user_gist(user_timeline):\n",
    "    \n",
    "    # set up empty containers we will need throughout the loop\n",
    "    word_freq = {}\n",
    "    word_list = []\n",
    "    gist = []\n",
    "    \n",
    "    # FIRST, loop through tweets in the timeline\n",
    "    for tweet in user_timeline:\n",
    "        # split up tweets into lists of words\n",
    "        tweet_words = tweet.text.split()\n",
    "        # and combine into one big list using `extend` command\n",
    "        word_list.extend(tweet_words)\n",
    "    \n",
    "    # SECOND, loop through list of words in tweets\n",
    "    for w in word_list:\n",
    "        # add each unique word and its `count` to the dictionary `word_frequency`\n",
    "        if w not in word_freq:\n",
    "            word_freq[w] = word_list.count(w)\n",
    "\n",
    "    #looping through the dictionary and adding each value, key pair to the list\n",
    "    for key in word_freq:\n",
    "        gist.append((word_freq[key], key))\n",
    "\n",
    "    #sorting the list\n",
    "    gist.sort()\n",
    "    #reversing the sort to be largest to smallest\n",
    "    gist.reverse()\n",
    "\n",
    "    #returning the list\n",
    "    return gist\n",
    "        "
   ]
  },
  {
   "cell_type": "code",
   "execution_count": 31,
   "metadata": {},
   "outputs": [
    {
     "data": {
      "text/plain": [
       "[(6, 'the'),\n",
       " (6, 'of'),\n",
       " (3, 'and'),\n",
       " (2, 'to'),\n",
       " (2, 'is'),\n",
       " (2, 'distinction'),\n",
       " (2, 'conspicuous'),\n",
       " (2, 'between'),\n",
       " (1, 'ways'),\n",
       " (1, 'vicarious'),\n",
       " (1, 'rep…'),\n",
       " (1, 'pecuniary'),\n",
       " (1, 'not'),\n",
       " (1, 'norm'),\n",
       " (1, 'manners'),\n",
       " (1, 'living'),\n",
       " (1, 'life'),\n",
       " (1, 'leisure'),\n",
       " (1, 'items'),\n",
       " (1, 'invidious'),\n",
       " (1, 'indicated,'),\n",
       " (1, 'https://t.co/x2O7ALCem3'),\n",
       " (1, 'has'),\n",
       " (1, 'fullness'),\n",
       " (1, 'exploit'),\n",
       " (1, 'enhance,'),\n",
       " (1, 'end'),\n",
       " (1, 'employments.'),\n",
       " (1, 'drudgery'),\n",
       " (1, 'consumption.'),\n",
       " (1, 'consumption'),\n",
       " (1, 'consumer,'),\n",
       " (1, 'conformity'),\n",
       " (1, 'but'),\n",
       " (1, 'been'),\n",
       " (1, 'are'),\n",
       " (1, 'an'),\n",
       " (1, 'already'),\n",
       " (1, 'World!'),\n",
       " (1, 'High-bred'),\n",
       " (1, 'Hello'),\n",
       " (1, 'For'),\n",
       " (1, 'As')]"
      ]
     },
     "execution_count": 31,
     "metadata": {},
     "output_type": "execute_result"
    }
   ],
   "source": [
    "user_gist(example_timeline)"
   ]
  }
 ],
 "metadata": {
  "kernelspec": {
   "display_name": "Python 3",
   "language": "python",
   "name": "python3"
  },
  "language_info": {
   "codemirror_mode": {
    "name": "ipython",
    "version": 3
   },
   "file_extension": ".py",
   "mimetype": "text/x-python",
   "name": "python",
   "nbconvert_exporter": "python",
   "pygments_lexer": "ipython3",
   "version": "3.7.4"
  }
 },
 "nbformat": 4,
 "nbformat_minor": 2
}
