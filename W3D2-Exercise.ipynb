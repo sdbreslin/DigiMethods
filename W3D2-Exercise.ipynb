{
 "cells": [
  {
   "cell_type": "markdown",
   "metadata": {},
   "source": [
    "# Exercise 4: APIs and Functions II \n",
    "\n",
    "## 4.1 Using the Twitter API to collect data"
   ]
  },
  {
   "cell_type": "markdown",
   "metadata": {},
   "source": [
    "**4.1.1** Find the Twitter account of the University of Copenhagen's Faculty of Social Science _by hand_ and get their Twitter account information using `tweepy` functionality. Remember that you just started a new Jupyter Notebook, so you will have to load the necessary modules and set up your authentication with the Twitter API. "
   ]
  },
  {
   "cell_type": "markdown",
   "metadata": {},
   "source": [
    "**4.1.2** When was this account created? Try to use the `str` and `print` commands to respond with a complete sentence."
   ]
  },
  {
   "cell_type": "markdown",
   "metadata": {},
   "source": [
    "**4.1.3** Can you find out 1) where this account is located, 2) how many people are following the account, and 3) how many accounts the account is following?"
   ]
  },
  {
   "cell_type": "markdown",
   "metadata": {},
   "source": [
    "**4.1.4** Next, get the timeline for this user \"mfroman\". What happens? Can you explain why?"
   ]
  },
  {
   "cell_type": "markdown",
   "metadata": {},
   "source": [
    "**4.1.5** Now, get the timeline for our example account \"vicariousveblen\". Some of the tweets were posted automatically, i.e. using a Python script. Can you tell from the metadata which? How?"
   ]
  },
  {
   "cell_type": "markdown",
   "metadata": {},
   "source": [
    "## 4.2 Writing and using our own functions to process the Twitter data"
   ]
  },
  {
   "cell_type": "markdown",
   "metadata": {},
   "source": [
    "**4.2.1** Collect the timeline for this account \"CPH_SODAS\"."
   ]
  },
  {
   "cell_type": "markdown",
   "metadata": {},
   "source": [
    "**4.2.2** Write a function that you can use to summarize the tweets in the timeline–feel free to look at the code examples we used earlier today."
   ]
  },
  {
   "cell_type": "markdown",
   "metadata": {},
   "source": [
    "**4.2.3** Apply the function to the timeline data you collected. Without looking it up, what would you say this account tweets about?"
   ]
  },
  {
   "cell_type": "markdown",
   "metadata": {},
   "source": [
    "## 4.3 Follow Your Interests"
   ]
  },
  {
   "cell_type": "markdown",
   "metadata": {},
   "source": [
    "**4.3.1** Identify three Twitter accounts _or_ key words of interest to you. Use the functionality we learned today to look at their history of the accounts, who tweets about your keywords, what do your accounts tweet about etc."
   ]
  }
 ],
 "metadata": {
  "kernelspec": {
   "display_name": "Python 3",
   "language": "python",
   "name": "python3"
  },
  "language_info": {
   "codemirror_mode": {
    "name": "ipython",
    "version": 3
   },
   "file_extension": ".py",
   "mimetype": "text/x-python",
   "name": "python",
   "nbconvert_exporter": "python",
   "pygments_lexer": "ipython3",
   "version": "3.7.4"
  }
 },
 "nbformat": 4,
 "nbformat_minor": 2
}
