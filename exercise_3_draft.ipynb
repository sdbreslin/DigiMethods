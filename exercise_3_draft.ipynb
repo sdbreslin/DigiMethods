{
 "cells": [
  {
   "cell_type": "markdown",
   "metadata": {},
   "source": [
    "# Exercise 3: Functions and Data\n",
    "\n",
    "Builds on exercises provided with Programming with Python for Social Science by Phillip Brooker and from Social Data Science 2019 by Andreas Bjerre-Nielson\n",
    "\n",
    "## 3.1 Functions\n",
    "\n",
    "**Question 3.1.1**: Make a function `add_strings` that takes as input two strings and adds them together with a space between. "
   ]
  },
  {
   "cell_type": "code",
   "execution_count": 166,
   "metadata": {},
   "outputs": [],
   "source": [
    "#Answer to question 3.1.1"
   ]
  },
  {
   "cell_type": "code",
   "execution_count": 3,
   "metadata": {},
   "outputs": [],
   "source": [
    "def add_strings(string1, string2):\n",
    "    return str(string1) + \" \" + str(string2)"
   ]
  },
  {
   "cell_type": "markdown",
   "metadata": {},
   "source": [
    "**Question 3.1.2**: Write some test cases for your function. Did you have to change your function based on your test cases? If so, explain. "
   ]
  },
  {
   "cell_type": "code",
   "execution_count": 4,
   "metadata": {},
   "outputs": [],
   "source": [
    "#Answer to question 3.1.2"
   ]
  },
  {
   "cell_type": "code",
   "execution_count": 6,
   "metadata": {},
   "outputs": [
    {
     "name": "stdout",
     "output_type": "stream",
     "text": [
      "hello world\n",
      "3 + 5\n",
      "[3, 5] (7, 8)\n",
      "3.14 is pi\n"
     ]
    }
   ],
   "source": [
    "#several test cases trying different types of input\n",
    "\n",
    "print(add_strings(\"hello\", \"world\"))\n",
    "print(add_strings(\"3 +\", 5))\n",
    "print(add_strings([3,5],(7,8)))\n",
    "print(add_strings(3.14, \"is pi\"))"
   ]
  },
  {
   "cell_type": "markdown",
   "metadata": {},
   "source": [
    "- stringifying the input ensures that it is two strings that are being added together\n",
    "- Note: this should not cause a ValueError since basic types can be converted to strings"
   ]
  },
  {
   "cell_type": "markdown",
   "metadata": {},
   "source": [
    "**Question 3.1.3**: Write another function `is_number` that uses the `try` and `except` structure to return `True` of the input is a number, or print a relevant error statement and returns `None` if the input is not a number. Test your function on several cases. "
   ]
  },
  {
   "cell_type": "code",
   "execution_count": 9,
   "metadata": {},
   "outputs": [],
   "source": [
    "#Answer to question 3.1.3"
   ]
  },
  {
   "cell_type": "code",
   "execution_count": 10,
   "metadata": {},
   "outputs": [],
   "source": [
    "def is_number(num):\n",
    "    try: \n",
    "        #If float() is successful then num is a number (or a representation of a number)\n",
    "        float(num)\n",
    "        return True\n",
    "    except ValueError:\n",
    "        #If float() throws an error, then the input cannot be converted to a number\n",
    "        print(\"Invalid input - must be a number\")\n",
    "        return None"
   ]
  },
  {
   "cell_type": "code",
   "execution_count": 12,
   "metadata": {},
   "outputs": [
    {
     "name": "stdout",
     "output_type": "stream",
     "text": [
      "True\n",
      "True\n",
      "True\n",
      "True\n",
      "Invalid input - must be a number\n",
      "None\n"
     ]
    }
   ],
   "source": [
    "print(is_number(3))\n",
    "print(is_number(1.6))\n",
    "print(is_number(-88))\n",
    "print(is_number(\"5.5\"))\n",
    "print(is_number(\"five\"))"
   ]
  },
  {
   "cell_type": "markdown",
   "metadata": {},
   "source": [
    "**Question 3.1.4**: Write a function that takes in a string and counts the frequency of each word in the string. Your function should return a dictionary with the word as the key and the count as the value. \n",
    "\n",
    "Hint: Useful string methods to look at are split() and count()."
   ]
  },
  {
   "cell_type": "code",
   "execution_count": 13,
   "metadata": {},
   "outputs": [],
   "source": [
    "#Answer to question 3.1.4"
   ]
  },
  {
   "cell_type": "code",
   "execution_count": 20,
   "metadata": {},
   "outputs": [],
   "source": [
    "#Defining my function\n",
    "def word_freq (string):\n",
    "    #splitting the string into separate words\n",
    "    wordlist = string.split()\n",
    "    \n",
    "    #initializing empty dictionary\n",
    "    wordfreq = {}\n",
    "    \n",
    "    #looping through each word\n",
    "    for w in wordlist:\n",
    "        #checking if we have counted this word already\n",
    "        #this is more efficient \n",
    "        if w not in wordfreq:\n",
    "            wordfreq[w] = wordlist.count(w)\n",
    "    \n",
    "    #returning the dictionary\n",
    "    return wordfreq\n"
   ]
  },
  {
   "cell_type": "code",
   "execution_count": 22,
   "metadata": {},
   "outputs": [
    {
     "name": "stdout",
     "output_type": "stream",
     "text": [
      "{'This': 1, 'is': 1, 'a': 1, 'test': 1, 'string': 1}\n",
      "{'The': 6, 'rise': 1, 'of': 20, 'new': 3, 'types': 2, 'digital': 9, 'data': 7, 'and': 31, 'the': 27, 'varieties': 1, 'social': 7, 'life': 1, 'taking': 1, 'place': 1, 'on': 3, 'media': 2, 'platforms': 2, 'enable': 1, 'relations': 1, 'between': 1, 'quantitative': 3, 'qualitative': 4, 'methods': 6, 'inquiry': 1, 'analysis.': 3, 'How': 1, 'such': 1, 'complementarities': 1, 'are': 3, 'best': 1, 'exploited': 1, 'for': 6, 'social-scientific': 1, 'practical': 2, 'purposes': 1, 'will': 21, 'be': 8, 'focus': 1, 'this': 1, 'course.': 2, 'course': 9, 'offer': 1, 'students': 8, 'opportunity': 1, 'to': 16, 'learn': 6, 'across': 2, 'spectrum,': 1, 'experiment': 1, 'with': 7, 'how': 5, 'these': 1, 'complement': 1, 'one': 2, 'another.': 1, 'structured': 1, 'around': 3, 'a': 6, 'mini': 1, 'research': 3, 'project,': 1, 'which': 2, 'takes': 1, 'through': 6, 'several': 1, 'stages:': 1, 'from': 1, 'design,': 1, 'collection,': 1, 'cleaning,': 1, 'Methodologically,': 1, 'wide': 1, 'range': 1, 'skills': 1, 'conducting': 2, 'computational': 4, 'research.': 1, 'First,': 1, 'take': 2, 'form': 1, 'python': 4, 'programming': 2, 'boot': 2, 'camp': 2, 'where': 1, 'necessary': 1, 'being': 1, 'efficient': 1, 'flexible': 1, 'in': 10, 'working': 2, 'data.': 4, 'We': 1, 'basic': 1, 'syntax,': 1, 'structures': 1, 'manipulate': 1, 'work': 2, 'tabular,': 1, 'text': 3, 'network': 2, 'also': 2, 'introduce': 2, 'various': 3, 'libraries': 1, 'that': 5, 'used': 2, 'throughout': 1, 'hereunder': 2, 'numpy,': 1, 'pandas,': 1, 'networkx,': 1, 'scikit-learn': 1, 'scipy.': 1, 'This': 1, 'first': 2, 'part': 1, 'up': 1, 'third': 1, 'Second,': 1, 'fundamentals': 1, 'ethnography': 3, 'other': 1, 'online': 4, 'spaces': 2, '(e.g.': 1, 'Facebook': 1, 'groups,': 1, 'Twitter': 1, 'hashtags,': 1, 'Reddit': 1, 'threads,': 1, 'intranets,': 1, 'discussion': 1, 'fora,': 1, 'etc.).': 1, 'Digital': 2, 'involves': 1, 'participant': 1, 'observation': 1, 'interviews': 1, 'purpose': 2, 'learning': 1, 'dynamics': 1, 'particular': 1, 'setting.': 1, 'thus': 1, 'provides': 1, 'interpretative': 1, 'grounding': 1, 'ensures': 1, 'categories': 1, 'processes': 1, 'quantitatively': 1, 'assessed': 1, 'later': 1, 'course,': 1, 'grounded': 1, 'meaning-making': 1, 'practices': 1, 'actors': 1, 'themselves.': 1, 'Third,': 1, 'scrape,': 1, 'clean': 1, 'do': 1, 'visualizations,': 1, 'analysis,': 2, 'clustering': 1, 'multidimensional': 1, 'scaling': 1, 'python.': 1, 'These': 1, 'techniques': 1, 'explore,': 1, 'map': 1, 'out': 1, 'visualize': 1, 'varying': 1, 'densities': 1, 'differences': 1, 'qualitatively': 1, 'exploring': 1, 'patterns': 1, 'settings.': 1, 'Fourth,': 1, 'use': 1, 'supervised': 1, 'machine': 1, 'learning,': 1, 'quantify': 1, 'aspects': 2, 'their': 1, 'inquiry.': 1, 'go': 1, 'more': 1, 'classical': 1, 'issues': 2, 'content': 1, 'analysis': 3, 'construction': 1, 'coding': 1, 'schemes': 1, 'forms': 1, 'validity': 1, 'relevant': 1, 'textual': 2, 'train': 1, 'models': 1, 'automatically': 1, 'label': 1, 'ways': 1, 'sensitive': 1, 'biases': 1, 'limitations': 1, 'automated': 1, 'Finally,': 1, 'run': 1, 'simple': 1, 'analytical': 1, 'strategies': 1, 'labeled': 1, 'Students': 2, 'tasked': 3, 'finding': 1, 'project': 1, 'idea,': 1, 'invent': 1, 'design': 1, 'combines': 1, 'an': 2, 'case': 2, 'study.': 1, 'Following': 1, 'this,': 1, 'collecting': 1, 'ethnography,': 1, 'science': 1, 'programming.': 1, 'then': 1, 'conduct': 1, 'study,': 1, 'while': 1, 'reflecting': 1, 'methodological,': 1, 'epistemological': 1, 'combining': 1, 'heterogeneous': 1, 'datasets': 1, 'methods.': 1}\n"
     ]
    }
   ],
   "source": [
    "#Testing function with some strings\n",
    "print(word_freq(\"This is a test string\"))\n",
    "\n",
    "#Testing with a longer string\n",
    "f = open('course_description.txt','r')\n",
    "desc = f.read()\n",
    "print(word_freq(desc))"
   ]
  },
  {
   "cell_type": "markdown",
   "metadata": {},
   "source": [
    "## 2.2 Text Files\n",
    "\n",
    "**Question 2.2.1**: Read in the text files `stop_words.txt` and turn it into a list of words. Note: when you look at the file you see that each word is on a different line. \n",
    "Note2: remember to remove the newline characters for each line/word.\n",
    "\n",
    "Stopwords from: http://ir.dcs.gla.ac.uk/resources/linguistic_utils/stop_words"
   ]
  },
  {
   "cell_type": "code",
   "execution_count": 28,
   "metadata": {},
   "outputs": [],
   "source": [
    "#Answer to question 2.2.1"
   ]
  },
  {
   "cell_type": "code",
   "execution_count": 30,
   "metadata": {},
   "outputs": [],
   "source": [
    "#Open file\n",
    "file = open('stop_words.txt','r')\n",
    "\n",
    "#create an empty list of words\n",
    "stop_words = []\n",
    "\n",
    "#loop through each line in the file\n",
    "for line in file:\n",
    "    #strip the line of the newline character\n",
    "    line = line.strip(\"\\n\")\n",
    "    #add the word to the list\n",
    "    stop_words.append(line)\n",
    "\n",
    "#close the file\n",
    "file.close()\n"
   ]
  },
  {
   "cell_type": "code",
   "execution_count": null,
   "metadata": {},
   "outputs": [],
   "source": []
  },
  {
   "cell_type": "markdown",
   "metadata": {},
   "source": [
    "**Question 2.2.2**: Write a function `make_wordlist` that takes a filename as the argument. The function reads the file, turning the text to lower case and removes all non alpha-numeric characters and all stop words (found in the list you made in the question above). The function returns the cleaned text as a string.  \n",
    "\n"
   ]
  },
  {
   "cell_type": "code",
   "execution_count": null,
   "metadata": {},
   "outputs": [],
   "source": [
    "def make_wordlist(filename):\n",
    "    "
   ]
  },
  {
   "cell_type": "markdown",
   "metadata": {},
   "source": [
    "**Quesion 2.2.2**: Let `my_url` be a url of your choice. Retrieve the part of a string before a specified character. \n",
    "For example, if your URL is the link for our course: https://kurser.ku.dk/course/aana18119u/2019-2020 and specific character is '/', then you should retrieve https://kurser.ku.dk/course/aana18119u. \n",
    "\n",
    "Remember that you can consult the [documentation for strings](https://docs.python.org/2.5/lib/string-methods.html) to find relevant methods "
   ]
  },
  {
   "cell_type": "code",
   "execution_count": null,
   "metadata": {},
   "outputs": [],
   "source": [
    "#Answer to question 2.2.2"
   ]
  },
  {
   "cell_type": "code",
   "execution_count": 1,
   "metadata": {},
   "outputs": [
    {
     "name": "stdout",
     "output_type": "stream",
     "text": [
      "https://kurser.ku.dk/course/aana18119u\n"
     ]
    }
   ],
   "source": [
    "#Original URL\n",
    "my_url = \"https://kurser.ku.dk/course/aana18119u/2019-2020\"\n",
    "\n",
    "#Using rsplit method, which splits from the right. \n",
    "#'/' indicates the character to split by, 1 indicates how many splits, and [0] retrieves the first element in the list\n",
    "#method details in string documentation\n",
    "shorter_url = my_url.rsplit('/',1)[0]\n",
    "\n",
    "#printing the url \n",
    "print(shorter_url)"
   ]
  },
  {
   "cell_type": "markdown",
   "metadata": {},
   "source": [
    "## 2.3 Conditions and Loops\n",
    "\n",
    "**Question 2.3.1**: Revisit your script workflow from the previous assignment (Question 1.4.3). For which part of your script would you need to use a loop? What kind of loop would you use?"
   ]
  },
  {
   "cell_type": "code",
   "execution_count": 181,
   "metadata": {},
   "outputs": [],
   "source": [
    "#Answer to question 2.3.1"
   ]
  },
  {
   "cell_type": "markdown",
   "metadata": {},
   "source": [
    "**Question 2.3.2**: Using the list of population size `DK_population` from above, calculate the average population of Denmark from year 1901 to 2020 (the whole list) using a loop. Round to the nearest whole number."
   ]
  },
  {
   "cell_type": "code",
   "execution_count": 182,
   "metadata": {},
   "outputs": [],
   "source": [
    "#Answer to question 2.3.2"
   ]
  },
  {
   "cell_type": "code",
   "execution_count": 183,
   "metadata": {},
   "outputs": [
    {
     "name": "stdout",
     "output_type": "stream",
     "text": [
      "The average population from 1901 to 1920 was: 4363\n"
     ]
    }
   ],
   "source": [
    "DK_pop_avg = 0\n",
    "\n",
    "#looping through elements to create a sum of all elements\n",
    "for i in DK_population:\n",
    "    DK_pop_avg += i\n",
    "\n",
    "#Dividing by the number of elements\n",
    "DK_pop_avg /= len(DK_population)\n",
    "\n",
    "#printing the results\n",
    "print(\"The average population from 1901 to 1920 was: \" + str(round(DK_pop_avg)))"
   ]
  },
  {
   "cell_type": "markdown",
   "metadata": {},
   "source": [
    "**Question 2.3.3**: Suppose you want your population size list to show the full population, not represented in the 1000s (i.e. 2447 should really be 2447000). Using a loop, create a new list `DK_population_long` where the elements show the full population. If you used a for loop for Question 2.3.2 then use a while loop for this question, or vice versa. "
   ]
  },
  {
   "cell_type": "code",
   "execution_count": 184,
   "metadata": {},
   "outputs": [],
   "source": [
    "#Answer to Question 2.3.3"
   ]
  },
  {
   "cell_type": "code",
   "execution_count": 185,
   "metadata": {},
   "outputs": [],
   "source": [
    "#Initializing variables\n",
    "count = 0\n",
    "DK_population_long = []\n",
    "\n",
    "#looping through DK_population, adding each element to DK_population_long and multiplying it by 1000\n",
    "while count < len(DK_population):\n",
    "    DK_population_long.append(DK_population[count] * 1000)\n",
    "    count += 1\n"
   ]
  },
  {
   "cell_type": "markdown",
   "metadata": {},
   "source": [
    "## 2.4 Dictionaries\n",
    "**Question 2.4.1**: Take the list of population size `DK_population` above and make a Dictionary called `DK_population_dict` with keys year and population (with the appropriate values). Recall that the data represents 1901 to 2020.  "
   ]
  },
  {
   "cell_type": "code",
   "execution_count": 186,
   "metadata": {},
   "outputs": [],
   "source": [
    "#Answer to question 2.4.1"
   ]
  },
  {
   "cell_type": "code",
   "execution_count": 187,
   "metadata": {},
   "outputs": [
    {
     "name": "stdout",
     "output_type": "stream",
     "text": [
      "{1901: 2447, 1902: 2477, 1903: 2506, 1904: 2532, 1905: 2560, 1906: 2589, 1907: 2621, 1908: 2652, 1909: 2687, 1910: 2722, 1911: 2757, 1912: 2788, 1913: 2820, 1914: 2851, 1915: 2886, 1916: 2921, 1917: 2958, 1918: 2991, 1919: 3027, 1920: 3061, 1921: 3265, 1922: 3306, 1923: 3340, 1924: 3372, 1925: 3406, 1926: 3439, 1927: 3467, 1928: 3487, 1929: 3510, 1930: 3531, 1931: 3557, 1932: 3590, 1933: 3620, 1934: 3651, 1935: 3683, 1936: 3711, 1937: 3738, 1938: 3765, 1939: 3794, 1940: 3826, 1941: 3849, 1942: 3882, 1943: 3926, 1944: 3973, 1945: 4023, 1946: 4075, 1947: 4123, 1948: 4168, 1949: 4211, 1950: 4252, 1951: 4285, 1952: 4315, 1953: 4349, 1954: 4389, 1955: 4424, 1956: 4454, 1957: 4479, 1958: 4501, 1959: 4532, 1960: 4566, 1961: 4601, 1962: 4630, 1963: 4666, 1964: 4703, 1965: 4741, 1966: 4779, 1967: 4820, 1968: 4855, 1969: 4879, 1970: 4907, 1971: 4951, 1972: 4976, 1973: 5008, 1974: 5036, 1975: 5054, 1976: 5065, 1977: 5080, 1978: 5097, 1979: 5112, 1980: 5122, 1981: 5124, 1982: 5119, 1983: 5116, 1984: 5112, 1985: 5111, 1986: 5116, 1987: 5125, 1988: 5129, 1989: 5130, 1990: 5135, 1991: 5146, 1992: 5162, 1993: 5181, 1994: 5197, 1995: 5216, 1996: 5251, 1997: 5275, 1998: 5295, 1999: 5314, 2000: 5330, 2001: 5349, 2002: 5368, 2003: 5384, 2004: 5398, 2005: 5411, 2006: 5427, 2007: 5447, 2008: 5476, 2009: 5511, 2010: 5535, 2011: 5561, 2012: 5581, 2013: 5603, 2014: 5627, 2015: 5660, 2016: 5707, 2017: 5749, 2018: 5781, 2019: 5806, 2020: 5823}\n"
     ]
    }
   ],
   "source": [
    "#Creating a list of years\n",
    "years = list(range(1901,2021))\n",
    "\n",
    "#Zipping together the years and population\n",
    "key_values = list(zip(years, DK_population))\n",
    "\n",
    "#Creating a dictionary\n",
    "DK_population_dict = dict(key_values)\n",
    "\n",
    "#Printing dictionary to see results\n",
    "print(DK_population_dict)"
   ]
  },
  {
   "cell_type": "markdown",
   "metadata": {},
   "source": [
    "**Question 2.4.2**: What was the population in the year 1950?"
   ]
  },
  {
   "cell_type": "code",
   "execution_count": 188,
   "metadata": {},
   "outputs": [],
   "source": [
    "#Answer to question 2.4.2"
   ]
  },
  {
   "cell_type": "code",
   "execution_count": 189,
   "metadata": {},
   "outputs": [
    {
     "data": {
      "text/plain": [
       "4252"
      ]
     },
     "execution_count": 189,
     "metadata": {},
     "output_type": "execute_result"
    }
   ],
   "source": [
    "DK_population_dict[1950]"
   ]
  },
  {
   "cell_type": "markdown",
   "metadata": {},
   "source": [
    "**Question 2.4.3**: Write a dictionary called `my_dictionary` that stores:\n",
    "- Your favourite animal\n",
    "- Your favourite colour\n",
    "- Your favourite TV Show\n",
    "- Your favourite film"
   ]
  },
  {
   "cell_type": "code",
   "execution_count": 190,
   "metadata": {},
   "outputs": [],
   "source": [
    "#Answer to question 2.4.3"
   ]
  },
  {
   "cell_type": "code",
   "execution_count": 191,
   "metadata": {},
   "outputs": [],
   "source": [
    "my_dictionary = {'animal':'cat',\n",
    "                 'colour':'green',\n",
    "                 'tv-show':'magicians',\n",
    "                 'film':'none'}"
   ]
  },
  {
   "cell_type": "markdown",
   "metadata": {},
   "source": [
    "**Question 2.4.4**: Add a key and value to the your dictionary from 2.4.3 with your favourite band or artist. "
   ]
  },
  {
   "cell_type": "code",
   "execution_count": 192,
   "metadata": {},
   "outputs": [],
   "source": [
    "#Answer to question 2.4.4"
   ]
  },
  {
   "cell_type": "code",
   "execution_count": 193,
   "metadata": {},
   "outputs": [],
   "source": [
    "my_dictionary.update({'band':'lunasa'})\n"
   ]
  },
  {
   "cell_type": "markdown",
   "metadata": {},
   "source": [
    "**Question 2.4.5**: \n",
    "1. Delete the favourite film field.\n",
    "2. Create an empty dictionary with the variable name as your favourite movie \n",
    "3. Populate the dictionary with the following keys (and give them values): \n",
    "    - Year\n",
    "    - Genre\n",
    "4. Do steps 2 and 3 for a two or three movies. \n",
    "5. Add the dictionaries of movies to a new dictionary called `favourite_movies` with the movie title as the key for each entry. \n",
    "6. Add `favourite_movies` to your `my_dictionary` under the key \"Favourite movies\"\n",
    "\n"
   ]
  },
  {
   "cell_type": "code",
   "execution_count": 194,
   "metadata": {},
   "outputs": [],
   "source": [
    "#Answer to question 2.4.5"
   ]
  },
  {
   "cell_type": "code",
   "execution_count": 195,
   "metadata": {},
   "outputs": [
    {
     "data": {
      "text/plain": [
       "'none'"
      ]
     },
     "execution_count": 195,
     "metadata": {},
     "output_type": "execute_result"
    }
   ],
   "source": [
    "#Removing favorite film field\n",
    "my_dictionary.pop('film')\n",
    "\n",
    "#Note: THis is being kept in a separate cell \n",
    "#because we only want to run this once, but testing\n",
    "#the cell below might take multiple tries!"
   ]
  },
  {
   "cell_type": "code",
   "execution_count": 196,
   "metadata": {},
   "outputs": [
    {
     "name": "stdout",
     "output_type": "stream",
     "text": [
      "{'animal': 'cat', 'colour': 'green', 'tv-show': 'magicians', 'band': 'lunasa', 'Favourite movies': {'Star Wars: Rise of Skywalker': {'Year': 2019, 'Genre': 'Sci-fi'}, 'Thor: Ragnarok': {'Year': 2017, 'Genre': 'Superhero'}}}\n"
     ]
    }
   ],
   "source": [
    "#Below shows a variety of ways to add things to dictionaries\n",
    "#Some are simpler than others!\n",
    "\n",
    "#Creating new dictionaries\n",
    "Star_Wars = {'Year': 2019,\n",
    "             'Genre': 'Sci-fi'}\n",
    "Thor_Ragnarok = {'Year': 2017,\n",
    "                 'Genre': 'Superhero'}\n",
    "\n",
    "#Creating dictionary of favourite movies\n",
    "favourite_movies={'Star Wars: Rise of Skywalker': Star_Wars,\n",
    "                 'Thor: Ragnarok': Thor_Ragnarok}\n",
    "\n",
    "#adding to my dictionary\n",
    "my_dictionary['Favourite movies'] = favourite_movies\n",
    "\n",
    "#printing the dictionary\n",
    "print(my_dictionary)"
   ]
  },
  {
   "cell_type": "markdown",
   "metadata": {},
   "source": [
    "**Question 2.4.6**: See if you can print out different keys and values from `my_dictionary`. "
   ]
  },
  {
   "cell_type": "code",
   "execution_count": 197,
   "metadata": {},
   "outputs": [],
   "source": [
    "#Answer to question 2.4.6"
   ]
  },
  {
   "cell_type": "code",
   "execution_count": 198,
   "metadata": {},
   "outputs": [
    {
     "name": "stdout",
     "output_type": "stream",
     "text": [
      "2017\n"
     ]
    }
   ],
   "source": [
    "#printing out the year that Thor came out\n",
    "print(my_dictionary['Favourite movies']['Thor: Ragnarok']['Year'])"
   ]
  },
  {
   "cell_type": "markdown",
   "metadata": {},
   "source": [
    "## 2.5 Reflection\n",
    "**Question 2.5.1**: Write a brief paragraph reflecting on your experience learning programming today. What did you struggle with? What did you enjoy? What surprised you?"
   ]
  },
  {
   "cell_type": "markdown",
   "metadata": {},
   "source": [
    "Todays exercises were a bit long, but we hope you had fun! Mountain climbing Octocat says congrats on finishing!\n",
    "<img src=\"./octocat.png\" />"
   ]
  }
 ],
 "metadata": {
  "kernelspec": {
   "display_name": "Python 3",
   "language": "python",
   "name": "python3"
  },
  "language_info": {
   "codemirror_mode": {
    "name": "ipython",
    "version": 3
   },
   "file_extension": ".py",
   "mimetype": "text/x-python",
   "name": "python",
   "nbconvert_exporter": "python",
   "pygments_lexer": "ipython3",
   "version": "3.7.4"
  }
 },
 "nbformat": 4,
 "nbformat_minor": 2
}
